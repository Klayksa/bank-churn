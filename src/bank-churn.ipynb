{
 "cells": [
  {
   "cell_type": "markdown",
   "id": "15e7769c",
   "metadata": {},
   "source": [
    "# Прогнозирование оттока клиентов банка\n",
    "---\n",
    "\n",
    "\n",
    "#### Постановка бизнес-задачи, описание предметной области. <a name=\"first-stage\" id=\"first-stage\"></a>  \n",
    "\n",
    "##### Предметная область\n",
    "Рассматривается задача прогнозирования оттока клиентов банка. Отток (churn) - прекращение использования клиентом банковских услуг. Удержание клиентов - приоритет для бизнеса из-за высокой стоимости их привлечения.  \n",
    "\n",
    "\n",
    "##### Контекст бизнеса\n",
    "\n",
    "**Банки стремятся**:\n",
    "- Выявлять клиентов с высоким риском ухода\n",
    "- Повышать уровень удержания\n",
    "- Персонализировать предложения\n",
    "\n",
    "**Ключевые аспекты:**\n",
    "- Своевременное выявление оттока\n",
    "- Оптимизация маркетинговых и удерживающих кампаний\n",
    "- Увеличение прибыли за счёт лояльных клиентов\n",
    "\n",
    "\n",
    "\n",
    "##### Бизнес-задача\n",
    "Бизнес-задача – на основе имеющихся данных о клиентах проанализировать датасет для выявления причин ухода клиентов.\n",
    "\n",
    "**Цель:**\n",
    "- Снизить отток клиентов\n",
    "- Поддержки стабильной прибыли банков\n",
    "- Улучшения стратегий взаимодействия с клиентами\n",
    "\n",
    "\n",
    "##### Описание набора данных\n",
    "**Источник:** Kaggle - [Bank Customer Churn Prediction](https://www.kaggle.com/datasets/shubhammeshram579/bank-customer-churn-prediction)  \n",
    "**Объём:** ~10 000 клиентов  \n",
    "**Целевая переменная:** `Exited` (1 — клиент ушёл, 0 — остался)\n",
    "\n",
    "**Основные признаки**\n",
    "\n",
    "| Признак                | Тип            | Описание                                                  |\n",
    "|:-                      |:-:             |:-                                                         |\n",
    "| `CustomerId`           | Integer        | Уникальный идентификатор клиента                          |\n",
    "| `Surname`              | String         | Фамилия клиента                                           |\n",
    "| `CreditScore`          | Integer        | Кредитный рейтинг клиента                                 |\n",
    "| `Geography`            | String         | Страна проживания                                         |\n",
    "| `Gender`               | String         | Пол клиента                                               |\n",
    "| `Age`                  | Integer        | Возраст клиента                                           |\n",
    "| `Tenure`               | Integer        | Лет сотрудничества                                        |\n",
    "| `Balance`              | Float          | Остаток на счёте                                          |\n",
    "| `NumOfProducts`        | Integer        | Кол-во продуктов банка                                    |\n",
    "| `HasCrCard`            | Integer        | Наличие кредитной карты                                   |\n",
    "| `IsActiveMember`       | Float          | Активность клиента                                        |\n",
    "| `EstimatedSalary`      | Float          | Предполагаемый доход                                      |\n",
    "| `Exited`               | Integer        | Ушел ли клиент или нет (целевая переменная)               |\n",
    "\n",
    "\n",
    "##### Условные договоренности\n",
    "1. Будем считать, что кредитный рейтинг >=750 - это хороший кредитный рейтинг\n",
    "2. Будем считать, что кредитный рейтинг <=500 - это низкий кредитный рейтинг\n",
    "3. Будем считать, что клиенты с балансом >=200 000 - это особо важные (VIP) клиенты\n",
    "---"
   ]
  },
  {
   "cell_type": "markdown",
   "id": "a64a2e1d",
   "metadata": {},
   "source": [
    "#### Предобработка данных <a name=\"content-1\" id=\"content-1\"></a>"
   ]
  },
  {
   "cell_type": "code",
   "execution_count": null,
   "id": "7ef70079",
   "metadata": {},
   "outputs": [],
   "source": [
    "import math\n",
    "import pandas as pd\n",
    "import numpy as np\n",
    "import matplotlib.pyplot as plt\n",
    "import seaborn as sns\n",
    "import joblib\n",
    "from scipy.stats import chi2_contingency, ttest_ind\n",
    "from sklearn.preprocessing import OneHotEncoder\n",
    "from sklearn.compose import ColumnTransformer\n",
    "from sklearn.model_selection import train_test_split, GridSearchCV, RandomizedSearchCV\n",
    "from scipy.stats import randint, uniform\n",
    "from catboost import CatBoostClassifier\n"
   ]
  },
  {
   "cell_type": "markdown",
   "id": "2c150c00",
   "metadata": {},
   "source": [
    "##### Знакомство с данными <a name=\"content-11\" id=\"content-11\"></a>"
   ]
  },
  {
   "cell_type": "code",
   "execution_count": null,
   "id": "7a1437bc",
   "metadata": {},
   "outputs": [],
   "source": [
    "# Загрузка дата сета\n",
    "dataset = pd.read_csv(\"../data/churn.csv\")\n",
    "dataset"
   ]
  },
  {
   "cell_type": "code",
   "execution_count": null,
   "id": "aca8f9fa",
   "metadata": {},
   "outputs": [],
   "source": [
    "# первые 10 строк\n",
    "dataset.head(10)"
   ]
  },
  {
   "cell_type": "code",
   "execution_count": null,
   "id": "5670354d",
   "metadata": {},
   "outputs": [],
   "source": [
    "# последние 10 строк\n",
    "dataset.tail(10)"
   ]
  },
  {
   "cell_type": "code",
   "execution_count": null,
   "id": "b8f69b45",
   "metadata": {},
   "outputs": [],
   "source": [
    "# случайные 10 строк\n",
    "dataset.sample(10)"
   ]
  },
  {
   "cell_type": "code",
   "execution_count": null,
   "id": "95f59ea1",
   "metadata": {},
   "outputs": [],
   "source": [
    "# название колонок в датасете\n",
    "dataset.columns"
   ]
  },
  {
   "cell_type": "code",
   "execution_count": null,
   "id": "8dfe36df",
   "metadata": {},
   "outputs": [],
   "source": [
    "# размер датасета\n",
    "dataset.index"
   ]
  },
  {
   "cell_type": "code",
   "execution_count": null,
   "id": "ea44fad1",
   "metadata": {},
   "outputs": [],
   "source": [
    "# Общие сведения о датасете \n",
    "dataset.info()"
   ]
  },
  {
   "cell_type": "markdown",
   "id": "5d574e67",
   "metadata": {},
   "source": [
    "##### Проблемы при беглом анализе <a name=\"content-12\" id=\"content-12\"></a>\n",
    "При беглом осмотре можно сразу заметить несколько проблем в данном датасете:  \n",
    "1. Колонка RowNumber - по сути является счетчиком строк, что не нужно, т.к порядок строки в данных не влияет на результат\n",
    "2. Колонка CustomerId - уникальный идентификатор клиента, по сути не влияет на результат\n",
    "3. В колонке Age значения представлены в виде чисел с плавающей точкой (float), хотя возраст исчисляется целочисленно\n",
    "4. Колонки HasCrCard и IsActiveMember, возможно, содержат числа с плавающей точкой. В описании данных четко указано, что значениями могут быть только 1 (Да) и 0 (Нет)\n",
    "5. Колонка Gender, возможно, имеет только 2 значения - Male и Female, можно ввести ассоциацию: 1 (Male) и 2 (Female)\n",
    "6. Колонка Geography имеет только 3 значения - можно ввести ассоциацию: 1 (France), 2 (Spain), 3 (Germany)\n",
    "7. Были замечены пустые значения\n",
    "8. Названия колонок не соответствуют \"змеиному регистру\"\n",
    "9. У некоторых имен имеются спец символы\n",
    "10. У некоторых фамилий обнаружены спец. символы (например H? в строке с индексом 9)"
   ]
  },
  {
   "cell_type": "markdown",
   "id": "60f95da3",
   "metadata": {},
   "source": [
    "##### Детальный анализ датасета и каждого столбца <a name=\"content-13\" id=\"content-13\"></a>"
   ]
  },
  {
   "cell_type": "code",
   "execution_count": null,
   "id": "1152c232",
   "metadata": {},
   "outputs": [],
   "source": [
    "# типы данных каждого столбца\n",
    "dataset.dtypes"
   ]
  },
  {
   "cell_type": "code",
   "execution_count": null,
   "id": "4f763ac7",
   "metadata": {},
   "outputs": [],
   "source": [
    "# точное измерение памяти\n",
    "dataset.memory_usage(deep=True)"
   ]
  },
  {
   "cell_type": "code",
   "execution_count": null,
   "id": "8af9d025",
   "metadata": {},
   "outputs": [],
   "source": [
    "# поиск пустых значений по столбцам\n",
    "dataset.isnull().sum()"
   ]
  },
  {
   "cell_type": "code",
   "execution_count": null,
   "id": "8559aab3",
   "metadata": {},
   "outputs": [],
   "source": [
    "# детальный анализ каждого столбца\n",
    "\n",
    "for column in dataset.columns:\n",
    "    print(f\"Колонка {column}\")\n",
    "    print(f\"Тип данных: {dataset[column].dtype}\")\n",
    "    print(f\"Количество пустых значений: {dataset[column].isnull().sum()}\")\n",
    "    print(f\"Количество уникальных значений: {dataset[column].nunique()}\")\n",
    "    print(f\"Уникальные значения: {dataset[column].unique()}\")\n",
    "    print(f\"{dataset[column].describe()}\")\n",
    "    print()"
   ]
  },
  {
   "cell_type": "markdown",
   "id": "97fee330",
   "metadata": {},
   "source": [
    "При детальном анализе выявлены пустые значения, а также обнаружены столбцы, где можно привести данные в нормальную форму, например в колонке Age нужно привести к типу int.  \n",
    "Также было определено, что колонки Geography, Gender являются категориальными - это значит, что тип данных object можно привести к int с помощью ассоциаций."
   ]
  },
  {
   "cell_type": "markdown",
   "id": "a5bcd3bc",
   "metadata": {},
   "source": [
    "##### Исправление датасета <a name=\"content-14\" id=\"content-14\"></a>\n",
    "Сначала обработаем регистры в столбцах и в значениях столбцов"
   ]
  },
  {
   "cell_type": "code",
   "execution_count": null,
   "id": "e65923b2",
   "metadata": {},
   "outputs": [],
   "source": [
    "# Исправление регистров столбцов и приведение к \"змеиному регистру\"\n",
    "dataset.columns = (\n",
    "    dataset.columns\n",
    "    .str.replace(r'(?<=[a-z])([A-Z])', r'_\\1', regex=True)\n",
    "    .str.lower()\n",
    ")\n",
    "dataset.columns.to_list()"
   ]
  },
  {
   "cell_type": "markdown",
   "id": "e3771ccf",
   "metadata": {},
   "source": [
    "Далее удалим столбцы row_number и customer_id, surname, так как ими можно пренебречь"
   ]
  },
  {
   "cell_type": "code",
   "execution_count": null,
   "id": "e17c1db6",
   "metadata": {},
   "outputs": [],
   "source": [
    "dataset = dataset.drop([\"row_number\", \"customer_id\", \"surname\"], axis=1)"
   ]
  },
  {
   "cell_type": "markdown",
   "id": "4b912a2b",
   "metadata": {},
   "source": [
    "Для столбцов gender и geography изменим регистр"
   ]
  },
  {
   "cell_type": "code",
   "execution_count": null,
   "id": "6282cc2d",
   "metadata": {},
   "outputs": [],
   "source": [
    "# замена значений на ассоциации\n",
    "dataset[[\"gender\", \"geography\"]] = dataset[[\"gender\", \"geography\"]].apply(lambda x: x.str.lower())"
   ]
  },
  {
   "cell_type": "markdown",
   "id": "41b3901d",
   "metadata": {},
   "source": [
    "Обратим внимание, что в колонке geography неверно установился тип данных  \n",
    "Возможно это связано с наличием пропусков в колонке. Далее будет рассмотрена обработка пропусков и преобразование типов данных"
   ]
  },
  {
   "cell_type": "markdown",
   "id": "fcbb19b4",
   "metadata": {},
   "source": [
    "##### Обработка пропусков <a name=\"content-15\" id=\"content-15\"></a>\n",
    "В датасете было обнаружено 4 пропуска:"
   ]
  },
  {
   "cell_type": "code",
   "execution_count": null,
   "id": "f625d5b2",
   "metadata": {},
   "outputs": [],
   "source": [
    "rows_with_missing = dataset[dataset.isna().any(axis=1)]\n",
    "rows_with_missing"
   ]
  },
  {
   "cell_type": "markdown",
   "id": "08683a32",
   "metadata": {},
   "source": [
    "Для каждой замены необходимо выбрать те методы, которые сохранят статические свойства данных (в случае если заполнить их не представляется возможным - удалить):\n",
    "1. Для категориального значения в столбце geography воспользуемся модой (наиболее часто встречающееся значение). Данный способ сохраняет распределение категориальных признаков\n",
    "2. Для значения в столбце age воспользуемся медианой. Медиана устойчива к выбросам (в отличие от среднего), что важно для возраста, где могут быть аномально высокие или низкие значения.\n",
    "3. Если информация о наличии кредитной карты отсутствует (в столбце has_cr_card), разумно предположить, что её нет (более консервативный подход). Альтернатива — заполнение модой, но это может исказить данные, если большинство клиентов имеют карту. Поэтому заполним значение вручную\n",
    "4. Для значения в столбце is_active_member для минимизации искажения воспользуемся модой, т.к мода сохраняет доминирующую категорию без искажений"
   ]
  },
  {
   "cell_type": "code",
   "execution_count": null,
   "id": "bbc76181",
   "metadata": {},
   "outputs": [],
   "source": [
    "# geography \n",
    "dataset.loc[6, 'geography'] = dataset['geography'].mode()[0]\n",
    "\n",
    "# age\n",
    "dataset.loc[9, 'age'] = dataset['age'].median()\n",
    "\n",
    "# has_cr_card\n",
    "dataset.loc[4, 'has_cr_card'] = 0\n",
    "\n",
    "# is_active_member\n",
    "dataset.loc[8, 'is_active_member'] = dataset['is_active_member'].mode()[0]\n",
    "\n",
    "# перепроверка пропусков\n",
    "dataset.isnull().sum()"
   ]
  },
  {
   "cell_type": "markdown",
   "id": "9922ade1",
   "metadata": {},
   "source": [
    "##### Приведение значений столбцов к необходимым типам данных <a name=\"content-16\" id=\"content-16\"></a>\n",
    "В ходе анализа датасета установлено, что необходимо изменить следующие типы данных:\n",
    "1. credit_score с int64 на int32 (оптимизация памяти)\n",
    "2. geography не меняем\n",
    "3. gender не меняем\n",
    "4. age с float на int8 (изначально неверный тип данных)\n",
    "5. tenure c int64 на int8 (оптимизация памяти)\n",
    "6. num_of_products с int32 на int16 (оптимизация памяти)\n",
    "7. has_cr_card с float на bool (неверный тип данных)\n",
    "8. is_active_member c float на bool (неверный тип данных)\n",
    "9.  exited с int на bool (неверный тип данных)\n",
    "    \n",
    "В основном изменения типов данных нужны для оптимизации памяти, но присутствуют и неверные типы данных\n",
    "\n",
    ">Также нужно учесть особенности работы pandas с работой чисел с плавающей точкой (float):  \n",
    ">float64 является стандартным представлением чисел с плавающей точкой в pandas и в начальных настройках отображения данных автоматически показывает только 2 знака после точки, хотя float64 имеет точность ~16 знаков после запятой. Изменение данного типа данных на float32 может привести к большему накоплению ошибок, чем float64.  \n",
    ">Для денежных форматов необходимо использовать тип данных Decimal, но т.к датасет носит учебный характер - можно оставить float64."
   ]
  },
  {
   "cell_type": "code",
   "execution_count": null,
   "id": "94b6bf11",
   "metadata": {},
   "outputs": [],
   "source": [
    "dataset = dataset.astype({\n",
    "    \"credit_score\": \"int32\",\n",
    "    \"age\": \"int8\",\n",
    "    \"tenure\": \"int8\",\n",
    "    \"num_of_products\": \"int16\",\n",
    "    \"has_cr_card\": \"bool\",\n",
    "    \"is_active_member\": \"bool\",\n",
    "    \"exited\": \"bool\"\n",
    "})\n",
    "\n",
    "# проверка отработало ли преобразование типов корректно или нет\n",
    "dataset.dtypes"
   ]
  },
  {
   "cell_type": "markdown",
   "id": "2118c554",
   "metadata": {},
   "source": [
    "##### Поиск дубликатов <a name=\"content-17\" id=\"content-17\"></a>"
   ]
  },
  {
   "cell_type": "code",
   "execution_count": null,
   "id": "95a2c53d",
   "metadata": {},
   "outputs": [],
   "source": [
    "# Поиск дубликатов\n",
    "dataset.duplicated().sum()"
   ]
  },
  {
   "cell_type": "code",
   "execution_count": null,
   "id": "6fc7190b",
   "metadata": {},
   "outputs": [],
   "source": [
    "# т.к нашлись дубликаты, выведем их\n",
    "duplicates = dataset[dataset.duplicated(keep=False)]\n",
    "duplicates"
   ]
  },
  {
   "cell_type": "markdown",
   "id": "3d6f7b95",
   "metadata": {},
   "source": [
    "На печати видно, что дубликаты полностью идентичны (9998 с 9999 и 10000 с 10001).\n",
    "Это может быть связано с разными причинами, например, ошибка при выгрузке датасета (на api или бд могли произойти сбои, которые вызвали повторную запись - это маловероятно, но не равно 0). Также стоит учесть, что это датасет для обучающихся и дублирование данных могло произойти нарочно.  \n",
    "Также стоит учесть, что могло произойти некорректное объединение нескольких датасетов в один.  \n",
    "Для устранения дублирования удалим дубликаты с сохранением одного экземпляра."
   ]
  },
  {
   "cell_type": "code",
   "execution_count": null,
   "id": "b67b7561",
   "metadata": {},
   "outputs": [],
   "source": [
    "dataset = dataset.drop_duplicates()\n",
    "dataset.duplicated().sum()"
   ]
  },
  {
   "cell_type": "markdown",
   "id": "9ae19156",
   "metadata": {},
   "source": [
    "##### Проверка датасета после предобработки данных <a name=\"content-18\" id=\"content-18\"></a>"
   ]
  },
  {
   "cell_type": "code",
   "execution_count": null,
   "id": "06139e7c",
   "metadata": {},
   "outputs": [],
   "source": [
    "dataset.head()"
   ]
  },
  {
   "cell_type": "code",
   "execution_count": null,
   "id": "3fa930fd",
   "metadata": {},
   "outputs": [],
   "source": [
    "dataset.info()"
   ]
  },
  {
   "cell_type": "code",
   "execution_count": null,
   "id": "cbb2734f",
   "metadata": {},
   "outputs": [],
   "source": [
    "dataset.memory_usage(deep=True)"
   ]
  },
  {
   "cell_type": "markdown",
   "id": "4ab2dea6",
   "metadata": {},
   "source": [
    "##### Вывод по первому этапу <a name=\"content-19\" id=\"content-19\"></a>\n",
    "\n",
    "В ходе предварительного анализа и обработки набора данных были выполнены следующие шаги и устранены выявленные проблемы:\n",
    "\n",
    "1. Были просмотрены первые и последние строки, случайная выборка, структура датасета, типы данных и использование памяти.  \n",
    "   Это позволило сформировать общее представление о содержимом датасета и выявить потенциальные проблемы: наличие ненужных столбцов, неунифицированные имена, категориальные признаки в строковом формате, пропуски в данных, дублирование данных и несоответствие типов данных.\n",
    "\n",
    "2. При анализе датасета были выявлены:\n",
    "   - Наличие неинформативных столбцов (`row_number`, `customer_id`), которые были удалены из датасета;\n",
    "   - Несоблюдение стиля наименования столбцов (`\"змеиного регистра\"`). В процессе обработки все строковые значения (включая название столбцов) были приведены к этому стилю;\n",
    "   - Наличие строкового формата у категориальных признаков (`gender`, `geography`). Для решения данной проблемы были созданы отдельные словари, а в датасете использованы цифровые ключи;\n",
    "   - Наличие пустых значений и дубликатов, которые в процессе были устранены;\n",
    "   - Несоответствие типов данных. После предобработки все данные были приведены к необходимым типам\n",
    "\n",
    "3. Столбец `surname` был очищен от специальных символов и приведён к нижнему регистру, после чего был закодирован с помощью pd.factorize, что позволило превратить строковый столбец в числовой идентификатор.\n",
    "   \n",
    "Таким образом данные были подготовлены к дальнейшему анализу.\n"
   ]
  },
  {
   "cell_type": "markdown",
   "id": "67c9767b",
   "metadata": {},
   "source": [
    "#### Исследовательский анализ данных\n",
    "\n",
    "\n",
    "##### Индексация данных\n",
    "\n",
    "В данном пункте рассматриваются 2 вида индексаций: по координатам и логическая.  \n",
    "Индексация по координатам осуществляет доступ к данным по их позиции в датасете. Используется, когда нужно обратиться к данным по их номерам строк и столбцов (чаще нужно для срезов).  \n",
    "Логическая индексация осуществляет доступ к данным по определенным условиям. Используется для выборки данных по условиям."
   ]
  },
  {
   "cell_type": "markdown",
   "id": "8e9239a5",
   "metadata": {},
   "source": [
    "Для индексации по координатам проанализируем определенные ситуации, когда необходимо взять данные по их позиции:\n",
    "1. Выделим только определенные финансовые показатели клиентов (кредитный рейтинг, баланс, наличие кредитной карты и предполагаемую зарплату)\n",
    "2. Выделим только демографические признаки клиентов (столбцы geography, gender, age)\n",
    "3. Выделим данные для анализа зависимости возраста, количества продуктов и баланса \n",
    "4. Создадим выборочные данные для проверки с помощью выделения каждого 20 клиента\n",
    "5. Выделим определенный диапазон клиентов (строк). Предположим, что в конце датасета содержится информация о новых клиентах\n",
    "\n",
    "(у меня не хватило фантазии для такого типа индексации)"
   ]
  },
  {
   "cell_type": "code",
   "execution_count": null,
   "id": "d100663b",
   "metadata": {},
   "outputs": [],
   "source": [
    "'''\n",
    "№ 1\n",
    "Сделаем выборку для анализа платежеспособности клиентов\n",
    "с помощью выделения финансовых показателей\n",
    "Для этого берем у всех клиентов только те столбцы, которые могут дать информацию о платежеспособности\n",
    "'''\n",
    "financial_indicators = dataset.iloc[:, [1, 6, 8, 10]]\n",
    "financial_indicators"
   ]
  },
  {
   "cell_type": "code",
   "execution_count": null,
   "id": "5eff6153",
   "metadata": {},
   "outputs": [],
   "source": [
    "'''\n",
    "№ 2\n",
    "Сделаем выборку для анализа по демографическому признаку\n",
    "Для этого берем у всех клиентов столбцы о географическом положении, гендее и возрасте\n",
    "'''\n",
    "demographics = dataset.iloc[:, [2, 3, 4]]\n",
    "demographics\n"
   ]
  },
  {
   "cell_type": "code",
   "execution_count": null,
   "id": "31c252a6",
   "metadata": {},
   "outputs": [],
   "source": [
    "'''\n",
    "№ 3\n",
    "Сделаем выборку для проверки зависимости возраста и баланса на количество продуктов в банке\n",
    "'''\n",
    "age_num_prod = dataset.iloc[:, [4, 6, 7]]\n",
    "age_num_prod"
   ]
  },
  {
   "cell_type": "code",
   "execution_count": null,
   "id": "23972891",
   "metadata": {},
   "outputs": [],
   "source": [
    "'''\n",
    "№ 4\n",
    "Сделаем выборочные данные, например, для оценки репрезентативности данных\n",
    "Для этого выберем каждого 20 клиента из датасета\n",
    "'''\n",
    "selection_data = dataset.iloc[::20, :]\n",
    "selection_data"
   ]
  },
  {
   "cell_type": "code",
   "execution_count": null,
   "id": "9ae3f167",
   "metadata": {},
   "outputs": [],
   "source": [
    "'''\n",
    "№ 5\n",
    "Предположим, что в конце датасета содержится информация о новых клиентах (т.е первые строки - это клиенты, которые были зарегистрированы в базе банка раньше)\n",
    "Для этого выберем последние 2000 клиентов из датасета \n",
    "'''\n",
    "new_clients = dataset.iloc[-2000:, :]\n",
    "new_clients"
   ]
  },
  {
   "cell_type": "markdown",
   "id": "e3de6377",
   "metadata": {},
   "source": [
    "Для логической индексации проанализируем следующие ситуации:\n",
    "1. Выделим клиентов пожилого возраста (старше 60 лет)\n",
    "2. Выделим клиентов с высоким кредитным рейтингом и низким балансом\n",
    "3. Выделим клиентов, которые ушли по гендеру\n",
    "4. Выделим клиентов с 2я и более продуктами, но без кредитной карты\n",
    "5. Выделим клиентов, которые ушли в первый год обслуживания в банке"
   ]
  },
  {
   "cell_type": "code",
   "execution_count": null,
   "id": "d329ac06",
   "metadata": {},
   "outputs": [],
   "source": [
    "'''\n",
    "№ 1\n",
    "Сделаем выборку для анализа активности клиентов пожилого возраста\n",
    "'''\n",
    "oldest_clients = dataset[dataset[\"age\"] >= 60]\n",
    "oldest_clients"
   ]
  },
  {
   "cell_type": "code",
   "execution_count": null,
   "id": "4c5d998a",
   "metadata": {},
   "outputs": [],
   "source": [
    "'''\n",
    "№ 2\n",
    "Сделаем выборку для поиска клиентов с высоким кредитным рейтингом (будем считать, что 750 это высокий кредитный рейтинг), но с низким балансом\n",
    "'''\n",
    "strange_behavior = dataset[(dataset[\"credit_score\"] >= 750) & (dataset[\"balance\"] <= 1000)]\n",
    "strange_behavior"
   ]
  },
  {
   "cell_type": "code",
   "execution_count": null,
   "id": "e7dcdb06",
   "metadata": {},
   "outputs": [],
   "source": [
    "'''\n",
    "№ 3.1\n",
    "Разделим ушедших клиентов по гендеру для поиска причин оттока (м)\n",
    "'''\n",
    "male_churn = dataset[(dataset[\"gender\"] == \"male\") & (dataset[\"exited\"] == True)]\n",
    "male_churn"
   ]
  },
  {
   "cell_type": "code",
   "execution_count": null,
   "id": "e0439e8e",
   "metadata": {},
   "outputs": [],
   "source": [
    "'''\n",
    "№ 3.2\n",
    "Разделим ушедших клиентов по гендеру для поиска причин оттока (ж)\n",
    "'''\n",
    "female_churn = dataset[(dataset[\"gender\"] == \"female\") & (dataset[\"exited\"] == True)]\n",
    "female_churn"
   ]
  },
  {
   "cell_type": "code",
   "execution_count": null,
   "id": "2b233889",
   "metadata": {},
   "outputs": [],
   "source": [
    "'''\n",
    "№ 4\n",
    "Выделим клиентов с 2 и более продуктами, но без кредитной карты для определения потенциальных кандидатов на предложение кредитной карты\n",
    "для такого анализа также важно, чтобы клиенты были активными\n",
    "'''\n",
    "credit_offer = dataset[(dataset[\"num_of_products\"] >= 2) & (dataset[\"has_cr_card\"] == False) & (dataset[\"is_active_member\"] == True)]\n",
    "credit_offer"
   ]
  },
  {
   "cell_type": "code",
   "execution_count": null,
   "id": "90d6ddf0",
   "metadata": {},
   "outputs": [],
   "source": [
    "'''\n",
    "№ 5\n",
    "Выделим клиентов, которые ушли в первый год обслуживания (т.к tenure у нас целочисленное, то будем считать клиентов с tenure<=1)\n",
    "'''\n",
    "departed_new_clients = dataset[(dataset[\"tenure\"] <= 1) & (dataset[\"exited\"] == True)]\n",
    "departed_new_clients"
   ]
  },
  {
   "cell_type": "markdown",
   "id": "caa7b214",
   "metadata": {},
   "source": [
    "##### Сортировка данных\n",
    "Благодаря сортировки данных мы можем проанализировать максимальные и минимальные значения данных для выявления групп риска.  \n",
    "Выполним сортировку по следующим столбцам: \n",
    "1. По кредитному рейтингу\n",
    "2. По возрасту\n",
    "3. По балансу\n",
    "4. По количеству продуктов\n",
    "Также выполним одну многоуровневую сортировку для выявления новых клиентов с высоким кредитным рейтингом, но которые ушли из банка  \n",
    "\n",
    ">Параметр `ascending` определяет порядок сортировки (True - по возрастанию, False - по убыванию)"
   ]
  },
  {
   "cell_type": "code",
   "execution_count": null,
   "id": "872cf1fc",
   "metadata": {},
   "outputs": [],
   "source": [
    "'''\n",
    "№ 1 Сортировка по кредитному рейтингу\n",
    "Благодаря данной сортировки мы можем взять с помощью индексации по координатам клиентов с низким рейтингом и высоким и отдельно их проанализировать\n",
    "'''\n",
    "dataset_sorted_credit = dataset.sort_values(\"credit_score\", ascending=False)\n",
    "dataset_sorted_credit"
   ]
  },
  {
   "cell_type": "code",
   "execution_count": null,
   "id": "84044f60",
   "metadata": {},
   "outputs": [],
   "source": [
    "# дополнительный вывод строк, тк видна связь между рейтингом и исходом\n",
    "dataset_sorted_credit.tail(20)"
   ]
  },
  {
   "cell_type": "markdown",
   "id": "a72681e2",
   "metadata": {},
   "source": [
    "Благодаря сортировке по кредитному рейтингу удалось выделить клиентов с максимальным и минимальным возможным в данном датасете кредитном рейтинге.  \n",
    "Из этих данных можно увидеть, что почти все клиенты с низким рейтингом имеют кредитную карты, а также топ-20 клиентов с низким рейтингом покинули банк.  \n",
    "Также стоит отметить, что топ-5 клиентов по кредитному рейтингу остаются в банке.  \n",
    "Таким образом можно сделать вывод, что клиенты с низким кредитным рейтингом являются группой с высоким риском ухода из банка."
   ]
  },
  {
   "cell_type": "code",
   "execution_count": null,
   "id": "0cbe855b",
   "metadata": {},
   "outputs": [],
   "source": [
    "'''\n",
    "№ 2 Сортировка по возрасту\n",
    "Благодаря данной сортировки можно разделить клиентов по возрастным группам, разделив датасет на несколько частей для определения стратегий работы с каждой вохрастной группой отдельно\n",
    "'''\n",
    "dataset_sorted_age = dataset.sort_values(\"age\", ascending=False)\n",
    "dataset_sorted_age"
   ]
  },
  {
   "cell_type": "markdown",
   "id": "c64de1c3",
   "metadata": {},
   "source": [
    "Анализируя данные стоит отметить, что крайние возрастные группы не проявляют высокого оттока. Это значит, что нужно более детально проанализировать клиентов среднего возраста. Также стоит отметить, что баланс не всегда влияет на отток - и молодые и старшие клиенты с нулевым балансом остаются в банке."
   ]
  },
  {
   "cell_type": "code",
   "execution_count": null,
   "id": "3153c697",
   "metadata": {},
   "outputs": [],
   "source": [
    "'''\n",
    "№ 3 Сортировка по балансу\n",
    "Благодаря данной сортировки можно разделить людей с очень высоким балансом и очень низким\n",
    "'''\n",
    "dataset_sorted_balance = dataset.sort_values(\"balance\", ascending=False)\n",
    "dataset_sorted_balance"
   ]
  },
  {
   "cell_type": "code",
   "execution_count": null,
   "id": "efb53461",
   "metadata": {},
   "outputs": [],
   "source": [
    "dataset_sorted_balance.head(20)"
   ]
  },
  {
   "cell_type": "markdown",
   "id": "6199c074",
   "metadata": {},
   "source": [
    "Исходя из данных можно сделать вывод:  \n",
    "Клиенты с очень высоким остатком на счёте (>= 200 000) нужно расценивать как VIP клиентов. Если среди них есть те, кто ушёл из банка, это тревожный сигнал, т.к такие клиенты ценны для бизнеса. При анализе видно, что клиенты с самым высоким балансом ушли из банка, а значит банку необходимо пересмотреть стратегию работы с VIP клиентами.  \n",
    "Также интересны клиенты с нулевым балансом — это может быть как неактивный клиент, так и клиент, использующий только кредитные продукты."
   ]
  },
  {
   "cell_type": "code",
   "execution_count": null,
   "id": "00d23665",
   "metadata": {},
   "outputs": [],
   "source": [
    "'''\n",
    "№ 4 Сортировка по количеству продуктов\n",
    "Благодаря данной сортировки можно явно выделить клиентов с большим количеством продуктов и тех клиентов, которые вообще не имеют продуктов (но в данном датасете таких нет)\n",
    "'''\n",
    "dataset_sorted_num_prod = dataset.sort_values(\"num_of_products\", ascending=False)\n",
    "dataset_sorted_num_prod"
   ]
  },
  {
   "cell_type": "code",
   "execution_count": null,
   "id": "43e01779",
   "metadata": {},
   "outputs": [],
   "source": [
    "# дополнительный вывод, тк замечена связь между максимальным количеством продуктов и исходом\n",
    "dataset_sorted_num_prod.head(20)"
   ]
  },
  {
   "cell_type": "markdown",
   "id": "a4f3e784",
   "metadata": {},
   "source": [
    "Исходя из данной сортировки можно наблюдать следующее:  \n",
    "Клиенты, у которых больше всего банковских продуктов (4), гораздо чаще уходят, чем те, у кого 1 продукт.  \n",
    "Из данного наблюдения можно сформировать следующий риск - риск ухода возрастает с увеличением числа продуктов. Это может быть связано с плохим уровнем поддержки продуктов (банк продал 4 продукта, которые плохо взаимодействуют между собой, что могло вызвать недовольство клиентов)\n"
   ]
  },
  {
   "cell_type": "code",
   "execution_count": null,
   "id": "9f5be189",
   "metadata": {},
   "outputs": [],
   "source": [
    "'''\n",
    "№ 5 Многоуровневая сортировка для выявления новых клиентов с высоким кредитным рейтингом, но которые ушли из банка  \n",
    "Благодаря данной сортировки можно выявить клиентов для дальнейшего поиска причин ухода\n",
    "'''\n",
    "dataset_sorted_multi_level = dataset.sort_values([\"tenure\", \"exited\", \"credit_score\"], ascending=[True, False, False])\n",
    "dataset_sorted_multi_level"
   ]
  },
  {
   "cell_type": "code",
   "execution_count": null,
   "id": "7a151dde",
   "metadata": {},
   "outputs": [],
   "source": [
    "# дополнительный вывод, тк замечена связь\n",
    "dataset_sorted_multi_level.head(20)"
   ]
  },
  {
   "cell_type": "markdown",
   "id": "ed45b9f5",
   "metadata": {},
   "source": [
    "Из анализа видно, что новые клиенты (до 1 года обслуживания в банке) с высоким кредитным рейтингом ушли.  \n",
    "Это очень важный сигнал для бизнеса - банк теряет новых, надежных (с точки зрения кредитного рейтинга) клиентов.  \n",
    "Данная проблема может быть связана с:\n",
    "1. Сервисы банка не соответствуют ожиданию;\n",
    "2. Нет нормальной поддержки продуктов\n",
    "3. Отсутствие персонального сопровождения.\n",
    "\n",
    "\n",
    "Из всего текущего анализа можно выделить основные группы риска - клиенты с низким кредитным рейтингом (=<500) и новые клиенты с высоким рейтингом, уходящие в первый год, что может указывать на слабую конкурентноспособность анализируемой банковской системы. Особенно нужно обратить внимание на уход VIP-клиентов (баланс >=200 000) и клиентов с 4+ продуктами - вероятно из-за сложного обслуживания или более выгодных условий конкурентов.  \n",
    "На текущий момент можно сделать следующее `предположение`:  \n",
    ">Текущий анализ данных показывает картину консервативной банковской системы в 3х представленных странах. Данная банковская система недооценивала важность персональных услуг и длительное время работала по универсальным шаблонам. Особенно это видно по уходу VIP клиентов (те, у которых баланса >200 000). В такой ситуации банковской системе срочно нужно перестраиваться и улучшать свои сервисы"
   ]
  },
  {
   "cell_type": "markdown",
   "id": "012076cf",
   "metadata": {},
   "source": [
    "##### Фильтрация данных с помощью query и where\n",
    "\n",
    "`query` используйте для сложных условий в одну строку  \n",
    "Через query определим следующие данные:\n",
    "1. Клиенты с низким кредитным рейтингом, которые ушли\n",
    "2. Клиенты с высоким балансом, которые ушли\n",
    "3. Новые клиенты, которые ушли\n",
    "4. Клиенты с 4 банковскими продуктами, которые ушли\n",
    "5. Активные клиенты с нулевым балансом\n",
    "\n",
    "`where` применяйте для категоризации и сегментации  \n",
    "Через where определим следующие данные:\n",
    "1. Клиенты с высоким кредитным рейтингом\n",
    "2. Пожилые клиенты с высоким балансом\n",
    "3. Клиенты с высоким доходом, но неактивные\n",
    "4. Клиенты, ушедшие в первые 2 года\n",
    "5. Мужчины и женщины (отдельно) с 1 банковским продуктом"
   ]
  },
  {
   "cell_type": "code",
   "execution_count": null,
   "id": "d40c795b",
   "metadata": {},
   "outputs": [],
   "source": [
    "# 1.1 - Клиенты с низким кредитным рейтингом, которые ушли\n",
    "low_credit_score = dataset.query(\"credit_score <= 500 and exited == True\")\n",
    "low_credit_score"
   ]
  },
  {
   "cell_type": "code",
   "execution_count": null,
   "id": "e1172ed6",
   "metadata": {},
   "outputs": [],
   "source": [
    "# 1.2 - Клиенты с высоким балансом, которые ушли\n",
    "high_balance_churned = dataset.query(\"balance >= 200000 and exited == True\")\n",
    "high_balance_churned"
   ]
  },
  {
   "cell_type": "code",
   "execution_count": null,
   "id": "93ea18d8",
   "metadata": {},
   "outputs": [],
   "source": [
    "# 1.3 - Новые клиенты, которые ушли\n",
    "new_clients_churned = dataset.query(\"tenure <= 1 and exited == True\")\n",
    "new_clients_churned"
   ]
  },
  {
   "cell_type": "code",
   "execution_count": null,
   "id": "1de33fe8",
   "metadata": {},
   "outputs": [],
   "source": [
    "# 1.4 - Клиенты с 4 продуктами, которые ушли\n",
    "multi_product_churned = dataset.query(\"num_of_products == 4 and exited == True\")\n",
    "multi_product_churned"
   ]
  },
  {
   "cell_type": "code",
   "execution_count": null,
   "id": "01c64a89",
   "metadata": {},
   "outputs": [],
   "source": [
    "# 1.5 - Активные клиенты с нулевым балансом\n",
    "active_zero_balance = dataset.query(\"balance == 0 and is_active_member == True\")\n",
    "active_zero_balance"
   ]
  },
  {
   "cell_type": "code",
   "execution_count": null,
   "id": "f18e855d",
   "metadata": {},
   "outputs": [],
   "source": [
    "# Для метода numpy.where скопируем датасет и будем работать с копией\n",
    "dataset_copy = dataset.copy()"
   ]
  },
  {
   "cell_type": "code",
   "execution_count": null,
   "id": "f121e127",
   "metadata": {},
   "outputs": [],
   "source": [
    "# 2.1 - Клиенты с высоким кредитным рейтингом\n",
    "dataset_copy[\"high_credit\"] = np.where(dataset_copy[\"credit_score\"] > 750, \"high\", \"normal\")\n",
    "high_credit_clients = dataset_copy[dataset_copy[\"high_credit\"] == \"high\"]\n",
    "high_credit_clients"
   ]
  },
  {
   "cell_type": "code",
   "execution_count": null,
   "id": "bff00c24",
   "metadata": {},
   "outputs": [],
   "source": [
    "# 2.2 - Пожилые клиенты с высоким балансом\n",
    "dataset_copy[\"senior_vip\"] = np.where(\n",
    "    (dataset_copy[\"age\"] > 60) & (dataset_copy[\"balance\"] > 100000), \n",
    "    \"vip\", \n",
    "    \"other\"\n",
    ")\n",
    "senior_vip = dataset_copy[dataset_copy[\"senior_vip\"] == \"vip\"]\n",
    "senior_vip"
   ]
  },
  {
   "cell_type": "code",
   "execution_count": null,
   "id": "9896577a",
   "metadata": {},
   "outputs": [],
   "source": [
    "# 2.3 - Клиенты с высоким доходом, но неактивные\n",
    "dataset_copy[\"rich_inactive\"] = np.where(\n",
    "    (dataset_copy[\"estimated_salary\"] > 100000) & (dataset_copy[\"is_active_member\"] == False),\n",
    "    \"rich_inactive\",\n",
    "    \"active\"\n",
    ")\n",
    "inactive_rich = dataset_copy[dataset_copy[\"rich_inactive\"] == \"rich_inactive\"]\n",
    "inactive_rich"
   ]
  },
  {
   "cell_type": "code",
   "execution_count": null,
   "id": "e934835a",
   "metadata": {},
   "outputs": [],
   "source": [
    "# 2.4 - Клиенты, ушедшие в первые 2 года\n",
    "dataset_copy[\"early_churn\"] = np.where(\n",
    "    (dataset_copy[\"tenure\"] <= 2) & (dataset_copy[\"exited\"] == True),\n",
    "    \"early_churn\",\n",
    "    \"loyal\"\n",
    ")\n",
    "early_churners = dataset_copy[dataset_copy[\"early_churn\"] == \"early_churn\"]\n",
    "early_churners"
   ]
  },
  {
   "cell_type": "code",
   "execution_count": null,
   "id": "1599c499",
   "metadata": {},
   "outputs": [],
   "source": [
    "# 2.5 - Мужчины и женщины с 1 продуктом\n",
    "dataset_copy[\"gender_one_product\"] = np.where(\n",
    "    (dataset_copy[\"num_of_products\"] == 1),\n",
    "    dataset_copy[\"gender\"].map({\"male\": \"male_one_product\", \"female\": \"female_one_product\"}), \"other\"\n",
    ")\n",
    "male_one_product = dataset_copy[dataset_copy[\"gender_one_product\"] == \"male_one_product\"]\n",
    "female_one_product = dataset_copy[dataset_copy[\"gender_one_product\"] == \"female_one_product\"]\n",
    "\n",
    "male_one_product"
   ]
  },
  {
   "cell_type": "code",
   "execution_count": null,
   "id": "637c94c1",
   "metadata": {},
   "outputs": [],
   "source": [
    "female_one_product"
   ]
  },
  {
   "cell_type": "markdown",
   "id": "9058b3c0",
   "metadata": {},
   "source": [
    "##### Составление сводных таблиц\n",
    "\n",
    "В рамках данной задачи сформируем 3 сводные таблицы:\n",
    "1. Отток по гендеру и наличию кредитной карты"
   ]
  },
  {
   "cell_type": "code",
   "execution_count": null,
   "id": "a410c48a",
   "metadata": {},
   "outputs": [],
   "source": [
    "pivot_gender_card = dataset.pivot_table(\n",
    "    index='gender',\n",
    "    columns='has_cr_card',\n",
    "    values='exited',\n",
    "    aggfunc='mean',\n",
    "    margins=True\n",
    ")\n",
    "pivot_gender_card"
   ]
  },
  {
   "cell_type": "markdown",
   "id": "85e884c1",
   "metadata": {},
   "source": [
    "По данной сводной таблице можно заметить значительный гендерный разрыв в оттоке клиентов: женщины уходят на 50% чаще мужчин (25.1% против 16.5%). Наличие кредитной карты снижает отток лишь незначительно (на 0.5-0.6%)"
   ]
  },
  {
   "cell_type": "markdown",
   "id": "85a6052f",
   "metadata": {},
   "source": [
    "2. Отток по активности и количеству продуктов"
   ]
  },
  {
   "cell_type": "code",
   "execution_count": null,
   "id": "517f10c2",
   "metadata": {},
   "outputs": [],
   "source": [
    "pivot_activity_products = dataset.pivot_table(\n",
    "    index='is_active_member',\n",
    "    columns='num_of_products',\n",
    "    values='exited',\n",
    "    aggfunc='count'\n",
    ")\n",
    "\n",
    "pivot_activity_products = pivot_activity_products.rename(index={0: \"inactive\", 1: \"active\"})\n",
    "pivot_activity_products"
   ]
  },
  {
   "cell_type": "markdown",
   "id": "c2768b34",
   "metadata": {},
   "source": [
    "Основной количество клиентов (около 5000) имеют 1-2 продукта. Клиентов с 3-4 продуктами значительно меньше (всего 326), причем активных пользователей среди них крайне мало (113 и 29 соответственно)"
   ]
  },
  {
   "cell_type": "markdown",
   "id": "5b0d4831",
   "metadata": {},
   "source": [
    "3. Средние баланс и зарплата ушедших/оставшихся клиентов"
   ]
  },
  {
   "cell_type": "code",
   "execution_count": null,
   "id": "9689ea5a",
   "metadata": {},
   "outputs": [],
   "source": [
    "pivot_balance_salary = dataset.pivot_table(\n",
    "    index='exited',\n",
    "    values=['balance', 'estimated_salary'],\n",
    "    aggfunc='mean'\n",
    ")\n",
    "pivot_balance_salary = pivot_balance_salary.rename(index={0: \"stayed\", 1: \"left\"})\n",
    "pivot_balance_salary"
   ]
  },
  {
   "cell_type": "markdown",
   "id": "b0eaf35d",
   "metadata": {},
   "source": [
    "Из этих данных можно заметить, что предполагаемая зарплата ушедших и оставшихся клиентов почти одинаковая, но значительно (на 18 363, что примерно 20%) отличается баланс.  \n",
    "Можно предположить, что оставшиеся клиенты больше тратят, а ушедшие предпочитают копить, но для такого предположения необходимо проанализировать количество транзакций, которых в данном датасете нет. "
   ]
  },
  {
   "cell_type": "markdown",
   "id": "bfecea61",
   "metadata": {},
   "source": [
    "##### Группировка данных\n",
    "\n",
    "Исходя из предыдущего анализа, выделим следующие группы и вычислим агрегатные функции:\n",
    "1. Клиенты с низким кредитным рейтингом\n",
    "2. Новые клиенты с высоким кредитным рейтингом\n",
    "3. Ушедшие VIP-клиенты\n",
    "4. Клиенты с 3+ продуктами\n",
    "   \n",
    "В данном анализе используются следующие агрегатные функции:\n",
    "- `mean` – среднее арифметическое значение\n",
    "- `median` – возвращает значение, которое делит данные пополам (50-й перцентиль)\n",
    "- `min` – минимальное значение\n",
    "- `max` – максимальное значение\n",
    "- `count` – количество непустых значений\n",
    "- `std` – стандартное отклонение\n",
    "- `var` – дисперсия\n",
    "- `skew` - коэффициент асимметрии\n"
   ]
  },
  {
   "cell_type": "code",
   "execution_count": null,
   "id": "eaf55567",
   "metadata": {},
   "outputs": [],
   "source": [
    "# 1 Клиенты с низким кредитным рейтингом\n",
    "low_credit_stats = dataset[dataset[\"credit_score\"] <= 500].groupby(\"exited\").agg({\n",
    "    \"age\": \"median\",\n",
    "    \"balance\": [\"mean\", \"median\", \"count\", \"std\", \"skew\"],\n",
    "    \"num_of_products\": [\"mean\", \"var\"],\n",
    "    \"has_cr_card\": \"mean\",\n",
    "    \"tenure\": [\"min\", \"max\", \"mean\"],\n",
    "    \"estimated_salary\": \"median\"\n",
    "}).round(2)\n",
    "low_credit_stats"
   ]
  },
  {
   "cell_type": "markdown",
   "id": "7311e13b",
   "metadata": {},
   "source": [
    "Анализ клиентов с низким кредитным рейтингом (≤500) показал, что ушедшие клиенты в среднем старше (медианный возраст 46 против 35 лет) и имеют более высокие финансовые показатели: их средний баланс на 16,8% выше, а медианная зарплата — на 17,4%. При этом распределение количества продуктов у них более неравномерное (дисперсия в 2,5 раза выше), что указывает на две ключевые группы риска: клиенты с одним продуктом (низкая вовлеченность) и клиенты с тремя и более продуктами (потенциальная перегруженность или отсутствие нормальной поддержки продуктов)."
   ]
  },
  {
   "cell_type": "code",
   "execution_count": null,
   "id": "2605672e",
   "metadata": {},
   "outputs": [],
   "source": [
    "# 2 Новые клиенты с высоким кредитным рейтингом (группируем сразу по 2ум признакам - гендер и исход)\n",
    "new_high_credit_stats = dataset[(dataset[\"credit_score\"] >= 750) & \n",
    "                              (dataset[\"tenure\"] <= 1)].groupby([\"exited\", \"gender\"]).agg({\n",
    "    \"age\": [\"median\"],\n",
    "    \"balance\": [\"mean\", \"median\", \"count\", \"std\", \"skew\"],\n",
    "    \"num_of_products\": [\"mean\", \"var\"],\n",
    "    \"estimated_salary\": [\"mean\", \"median\", \"count\", \"std\", \"skew\"],\n",
    "    \"is_active_member\": \"mean\"\n",
    "}).round(2)\n",
    "new_high_credit_stats"
   ]
  },
  {
   "cell_type": "markdown",
   "id": "01298690",
   "metadata": {},
   "source": [
    "Анализ новых клиентов с высоким кредитным рейтингом (≥750) и сроком сотрудничества ≤1 год подтверждает, что ушедшие клиенты значительно старше (медианный возраст 47–48 лет против 36–37 у оставшихся) и имеют больший баланс (средний 102,735 у женщин и 84,124 у мужчин против 77,590–80,781 у лояльных). При этом их активность ниже (47% у женщин и 27% у мужчин против 61–62%), а зарплаты слабо коррелируют с оттоком.\n",
    "\n",
    "Исходя из анализа уже двух групп можно сделать вывод:  \n",
    "> Банк теряет финансово обеспеченных клиентов старшего возраста уже в первый год, вероятно, из-за несоответствия условий их потребностям."
   ]
  },
  {
   "cell_type": "code",
   "execution_count": null,
   "id": "ee8037b8",
   "metadata": {},
   "outputs": [],
   "source": [
    "# 3 Ушедшие VIP-клиенты\n",
    "vip_churned_stats = dataset[(dataset[\"balance\"] >= 200000) & \n",
    "                          (dataset[\"exited\"] == True)].groupby([\"geography\", \"num_of_products\"]).agg({\n",
    "    \"age\": \"median\",\n",
    "    \"tenure\": [\"mean\", \"median\", \"std\"],\n",
    "    \"credit_score\": [\"mean\", \"median\", \"min\", \"max\", \"count\"],\n",
    "    \"is_active_member\": \"mean\",\n",
    "    \"estimated_salary\": [\"mean\", \"median\", \"count\", \"std\", \"skew\"]\n",
    "}).round(2)\n",
    "vip_churned_stats"
   ]
  },
  {
   "cell_type": "markdown",
   "id": "088456be",
   "metadata": {},
   "source": [
    "При анализе участвуют VIP-клиенты из 2 регионов - Франция и Испания.  \n",
    "Во Франции клиенты с 1м продуктом уходят в среднем после 5.4 лет (медианный возраст 43 года), несмотря на высокий кредитный рейтинг (в среднем 653)  \n",
    "В Испании клиенты с 2я продуктами уходят в среднем после 3–4.4 года, даже при рейтинге 735+, что может указывать на системные проблемы в обслуживании  \n",
    "Также стоит заметить низкую активность клиентов с 1-2 продуктами, но для точного утверждения слишком мало данных"
   ]
  },
  {
   "cell_type": "code",
   "execution_count": null,
   "id": "99929194",
   "metadata": {},
   "outputs": [],
   "source": [
    "# 4 Клиенты с 3+ продуктами (группируем сразу по исходу, активности и наличию кредитных карт)\n",
    "multi_product_stats = dataset[dataset[\"num_of_products\"] >= 3].groupby(\n",
    "    [\"exited\", \"is_active_member\", \"has_cr_card\"]).agg({\n",
    "    \"balance\": [\"mean\", \"median\", \"count\", \"std\", \"skew\"],\n",
    "    \"age\": \"median\",\n",
    "    \"tenure\": [\"mean\", \"median\", \"std\"],\n",
    "    \"credit_score\": [\"mean\", \"median\", \"min\", \"max\", \"count\"],\n",
    "    \"estimated_salary\": [\"mean\", \"median\", \"count\", \"std\", \"skew\"]\n",
    "}).round(2)\n",
    "multi_product_stats"
   ]
  },
  {
   "cell_type": "markdown",
   "id": "3b21a26c",
   "metadata": {},
   "source": [
    "Ушедшие клиенты с 3+ продуктами имеют значительно больший баланс (средний 81–92K против 15–32K у оставшихся) и старше (медианный возраст 44–46 лет против 33–35).  \n",
    "При этом их кредитный рейтинг ниже (в среднем 644–647 против 618–742). Можно сделать вывод, что клиенты с высоким балансом и 3+ продуктами уходят, несмотря на долгое сотрудничество (медианный срок 4–6 лет)."
   ]
  },
  {
   "cell_type": "markdown",
   "id": "db6a084d",
   "metadata": {},
   "source": [
    "##### Свободный исследовательский анализ\n",
    "\n",
    "В процессе выполнения пунктов 1-5 исследовательского анализа были выявлены следующие закономерности, которые могут указывать на риски оттока клиентов:\n",
    "1. Клиенты, у которых 3 и более банковских продуктов, чаще уходят из банка. Это может быть связано с навязыванием услуг или перегруженностью предложениями, что вызывает раздражение и снижает лояльность.\n",
    "2. Клиенты, которые обслуживались в банке 1 год или меньше, даже при высоком кредитном рейтинге, склонны к оттоку. Возможно, они не увидели преимуществ банка сразу и предпочли другие.\n",
    "3. Отток наблюдается и среди клиентов с балансом свыше 200 000, что может указывать на отсутствие подходящих премиальных продуктов или неудовлетворительный сервис.\n",
    "\n",
    "Однако, стоит обратить внимание на неактивных клиентов:"
   ]
  },
  {
   "cell_type": "code",
   "execution_count": null,
   "id": "22547a45",
   "metadata": {},
   "outputs": [],
   "source": [
    "\n",
    "random_churn = dataset.groupby([\"geography\", \"gender\" , \"is_active_member\", \"exited\"]).agg({\n",
    "    \"age\": [\"median\", \"mean\"],\n",
    "    \"balance\": [\"mean\", \"median\", \"std\", \"count\"],\n",
    "    \"credit_score\": [\"min\", \"max\", \"mean\"],\n",
    "    \"num_of_products\": [\"mean\", \"std\", \"count\"],\n",
    "    \"tenure\": [\"median\", \"mean\", \"max\"],\n",
    "    \"estimated_salary\": [\"median\", \"mean\", \"std\"]\n",
    "}).round(2)\n",
    "random_churn"
   ]
  },
  {
   "cell_type": "markdown",
   "id": "f60be28e",
   "metadata": {},
   "source": [
    "Исходя из этих результатов можно заметить, что в германии клиенты в среднем имеют высокий баланс по сравнению с францией и испанией, но при этом эти клиенты уходят чаще, чем в других странах. Дополнительно проверим эту закономерность:"
   ]
  },
  {
   "cell_type": "code",
   "execution_count": null,
   "id": "07b423a0",
   "metadata": {},
   "outputs": [],
   "source": [
    "# подсчет количества людей по странам\n",
    "dataset['geography'].value_counts()"
   ]
  },
  {
   "cell_type": "code",
   "execution_count": null,
   "id": "21f15224",
   "metadata": {},
   "outputs": [],
   "source": [
    "# проверим отток клиентов с разным диапазоном баланса:\n",
    "for balance in range(0, 120_000, 10_000):\n",
    "    max_balance = balance*2 if balance != 0 else 10_000\n",
    "    churn_by_country = dataset[(dataset['balance'] >= balance) & (dataset['balance'] <= max_balance)].groupby('geography')['exited'].mean().sort_values(ascending=False)\n",
    "    print(f\"Диапазон от {balance} до {max_balance}\")\n",
    "    print(churn_by_country)\n",
    "    print()"
   ]
  },
  {
   "cell_type": "code",
   "execution_count": null,
   "id": "888e400a",
   "metadata": {},
   "outputs": [],
   "source": [
    "# отдельно проверим отток в определенном диапазоне баланса и количестве человек в этом диапазоне\n",
    "range_balance = (dataset['balance'] >= 50_000) & (dataset['balance'] <= 100_000)\n",
    "churn_mid_balance = dataset[range_balance].groupby('geography')['exited'].mean()\n",
    "churn_mid_balance"
   ]
  },
  {
   "cell_type": "code",
   "execution_count": null,
   "id": "df9ed6cb",
   "metadata": {},
   "outputs": [],
   "source": [
    "range_balance = dataset[(dataset['balance'] >= 50_000) & (dataset['balance'] <= 100_000)]\n",
    "range_balance[\"geography\"].value_counts()"
   ]
  },
  {
   "cell_type": "markdown",
   "id": "035f0c42",
   "metadata": {},
   "source": [
    "Исходя из всех вышеперечисленных данных можно обнаружить следующую закономерность - в зависимости от диапазона дохода наблюдается отток клиентов по географическому признаку, а именно:\n",
    "1. В диапазоне от 0 до 50 000 максимальный отток наблюдается среди клиентов из Испании и Франции, в то время как клиентов из Германии в этом диапазоне вообще нет\n",
    "2. В диапазоне от 50 000 до 100 000 наблюдается рост оттока среди клиентов Германии\n",
    "3. При балансе выше 70 000 Германия показывает самый высокий показатель оттока, который примерно в 2 раза больше по сравнению с Францией и Испанией\n",
    "4. Самой стабильной страной является Франция за счет низкого оттока почти на всех диапазонах"
   ]
  },
  {
   "cell_type": "markdown",
   "id": "f94aa87e",
   "metadata": {},
   "source": [
    "##### Вывод по исследовательскому анализу\n",
    "\n",
    "В ходе исследовательского анализа данных были изучены финансовые и демографические характеристики клиентов, выполнена фильтрация по ключевым бизнес-параметрам, проведены группировки и построены сводные таблицы. Это позволило выявить следующие важные закономерности:\n",
    "- Отток чаще наблюдается у клиентов с несколькими банковскими продуктами, особенно при количестве более трех\n",
    "- Новые клиенты, даже с хорошим кредитным рейтингом, не всегда остаются, что может указывать на слабое первое впечатление от банка. Если смотреть новых клиентов с хорошим кредитным рейтингом, то среди них отток составил почти 100%\n",
    "- Клиенты с высоким балансом тоже склонны к оттоку\n",
    "- Также выявлена неочевидная закономерность баланса и географического признака, которые влияют на отток\n",
    "\n",
    "Таким образом, были определены группы клиентов, наиболее склонные к уходу. Эти выводы могут лечь в основу построения новой стратегий по удержанию клиентов."
   ]
  },
  {
   "cell_type": "markdown",
   "id": "4d16179f",
   "metadata": {},
   "source": [
    "#### Статистический анализ\n",
    "\n",
    "В ходе данного анализа стоит задача провести статистический анализ данных, чтобы выявить ключевые закономерности, взаимосвязи и аномалии в данных. Такой анализ поможет лучше понять структуру данных, обнаружить возможные проблемы (например, выбросы или сильную корреляцию признаков) и сделать выводы, которые могут быть полезны для бизнеса.\n",
    "\n",
    "##### Расчет основных статистических показателей \n",
    "Для анализа основных показателей воспользуемся готовыми методами Pandas"
   ]
  },
  {
   "cell_type": "code",
   "execution_count": null,
   "id": "dcb1e4b3",
   "metadata": {},
   "outputs": [],
   "source": [
    "# вывод основных показателей (параметр include= \"object\" выведет статистику только категориальные признаки)\n",
    "dataset.describe().round(2)"
   ]
  },
  {
   "cell_type": "code",
   "execution_count": null,
   "id": "82085e57",
   "metadata": {},
   "outputs": [],
   "source": [
    "dataset.describe(include=\"object\")"
   ]
  },
  {
   "cell_type": "code",
   "execution_count": null,
   "id": "5764bb34",
   "metadata": {},
   "outputs": [],
   "source": [
    "# вывод медианы\n",
    "dataset.select_dtypes(include='number').median()"
   ]
  },
  {
   "cell_type": "code",
   "execution_count": null,
   "id": "d61d88bf",
   "metadata": {},
   "outputs": [],
   "source": [
    "# вывод моды\n",
    "dataset.select_dtypes(include='number').mode()"
   ]
  },
  {
   "cell_type": "code",
   "execution_count": null,
   "id": "5ddb5668",
   "metadata": {},
   "outputs": [],
   "source": [
    "# статистический анализ для булевых признаков\n",
    "dataset[[\"has_cr_card\", \"is_active_member\", \"exited\"]].mean()"
   ]
  },
  {
   "cell_type": "markdown",
   "id": "33fda6f7",
   "metadata": {},
   "source": [
    "Проанализируем полученные результаты  \n",
    "\n",
    "Средний кредитный рейтинг клиентов — 650, что в целом можно считать хорошим показателем. Половина клиентов имеет балл выше 652, но есть и те, у кого он опускается до 350 — это группа риска. Интересно, что чаще всего встречается максимальный балл 850, но таких клиентов явно меньше по сравнении с общим количеством анализируемых клиентов  \n",
    "\n",
    "Средний возраст — около 39 лет, при этом половина клиентов младше 37. Но есть и исключения: самый старший клиент — 92 года. Это можно считать как очень редкий случай, а для обучения модели машинного обучения считать как вброс.  \n",
    "\n",
    "В среднем клиенты остаются с банком около 5 лет. Минимальный срок — 0 лет (новички), максимальный — 10 лет (постоянные клиенты). Распределение в целом равномерное.  \n",
    "\n",
    "Средний баланс — 76 485, но медиана почти 97 200. Это значит, что у многих клиентов баланс значительно ниже среднего. Более того, у каждого четвёртого клиента на счету вообще нет денег — возможно, это неиспользуемые счета.  \n",
    "\n",
    "Большинство клиентов пользуются только одним продуктом банка (по моде — 1). Среднее значение — 1.5, а максимум — 4 продукта.  \n",
    "\n",
    "Средняя зарплата — около 100 090, медиана практически совпадает, значит, распределение зарплат близко к нормальному. Но есть аномалии: минимальная зарплата — всего 11.58 (скорее всего, ошибка), а максимальная — почти 200 000.  \n",
    "\n",
    "Также по ключевому параметру видно, что 20.4% клиентов уже ушли из банка. Это очень высокий показатель для бизнеса, особенно если учесть, что почти у половины клиентов баланс нулевой или они неактивны."
   ]
  },
  {
   "cell_type": "markdown",
   "id": "f2aa8fd4",
   "metadata": {},
   "source": [
    "##### Матрица корреляций"
   ]
  },
  {
   "cell_type": "code",
   "execution_count": null,
   "id": "290a97c7",
   "metadata": {},
   "outputs": [],
   "source": [
    "corr = dataset.corr(numeric_only=True)\n",
    "plt.figure(figsize=(10, 6))\n",
    "sns.heatmap(corr, annot=True, cmap=\"coolwarm\", vmin=-1, vmax=1)\n",
    "plt.title(\"Корреляция числовых признаков\")\n",
    "plt.savefig(\"../charts/correlation_graph.png\", bbox_inches=\"tight\", dpi=600)\n",
    "plt.show()"
   ]
  },
  {
   "cell_type": "markdown",
   "id": "4bd12827",
   "metadata": {},
   "source": [
    "Корреляционный анализ показал, что отток клиентов сильнее всего связан с возрастом (0.29) и активностью (–0.16), но не выявил других важных закономерностей, которые были обнаружены при исследовательском анализе. Это можно объяснить тем, что корреляция измеряет только линейные связи, когда в исследовательском анализе были найдены косвенные связи. Также стоит учесть, что в датасете присутствует мало данных (по сравнению со всей выборкой), которые подходят под закономерности из исследовательского анализа.  \n",
    "> Также стоит учесть, что категориальные признаки в корреляцию не входят."
   ]
  },
  {
   "cell_type": "markdown",
   "id": "1dd771ef",
   "metadata": {},
   "source": [
    "##### Анализ распределения числовых значений\n",
    "Для столбцов с числовыми значениями составим гистограммы и выведем их"
   ]
  },
  {
   "cell_type": "code",
   "execution_count": null,
   "id": "5f9f7752",
   "metadata": {},
   "outputs": [],
   "source": [
    "# гистограммы выведем с помощью subplots\n",
    "# сначала для числовых значений\n",
    "numeric_cols = dataset.select_dtypes(include=\"number\").columns\n",
    "n_plots = len(numeric_cols)\n",
    "n_cols = 3\n",
    "n_rows = math.ceil(n_plots / n_cols) \n",
    "\n",
    "fig, axes = plt.subplots(\n",
    "    nrows=n_rows,\n",
    "    ncols=n_cols,\n",
    "    figsize=(7 * n_cols, 4 * n_rows),\n",
    "    squeeze=False\n",
    ")\n",
    "axes = axes.flatten()\n",
    "\n",
    "for i, col in enumerate(numeric_cols):\n",
    "    sns.histplot(dataset[col], kde=True, ax=axes[i])\n",
    "    axes[i].set_title(f\"Распределение значений в столбце {col}\", fontsize=12)\n",
    "\n",
    "plt.subplots_adjust(hspace=0.3, wspace=0.2)\n",
    "plt.savefig(\"../charts/distribution_num_graph.png\", bbox_inches=\"tight\", dpi=600)\n",
    "plt.show()"
   ]
  },
  {
   "cell_type": "code",
   "execution_count": null,
   "id": "1ee7a7aa",
   "metadata": {},
   "outputs": [],
   "source": [
    "# для объектных значений\n",
    "object_cols = dataset.select_dtypes(include=\"object\").columns\n",
    "n_plots = len(object_cols)\n",
    "n_cols = 3\n",
    "n_rows = math.ceil(n_plots / n_cols) \n",
    "\n",
    "fig, axes = plt.subplots(\n",
    "    nrows=n_rows,\n",
    "    ncols=n_cols,\n",
    "    figsize=(7 * n_cols, 4 * n_rows),\n",
    "    squeeze=False\n",
    ")\n",
    "axes = axes.flatten()\n",
    "\n",
    "for i, col in enumerate(object_cols):\n",
    "    sns.histplot(dataset[col], kde=True, ax=axes[i])\n",
    "    axes[i].set_title(f\"Распределение значений в столбце {col}\", fontsize=12)\n",
    "\n",
    "plt.subplots_adjust(hspace=0.3, wspace=0.2)\n",
    "plt.savefig(\"../charts/distribution_obj_graph.png\", bbox_inches=\"tight\", dpi=600)\n",
    "plt.show()"
   ]
  },
  {
   "cell_type": "markdown",
   "id": "bd49c658",
   "metadata": {},
   "source": [
    "Кредитный рейтинг клиентов распределён близко к нормальному, большинство находятся в диапазоне от 600 до 700 баллов, что говорит о средней (т.к хороший рейтинг нами установлен от 750) надёжности клиентов.  Возрастная категория в основном представлена людьми от 30 до 45 лет, с пиком около 27 и 40 — это активная платежеспособная аудитория, при этом доля пожилых и очень молодых клиентов невелика.  \n",
    "Срок обслуживания клиентов в банке распределён практически равномерно, но заметно, что клиентов с 10 годами обслуживания чуть меньше — это может свидетельствовать об оттоке клиентов.\n",
    "При анализе баланса наблюдается резкое расхождение: большая часть клиентов вообще не держат деньги на счёте, в то время как у другой части баланс в районе 100–150 тысяч.  \n",
    "Количество используемых продуктов в банке ограничивается в основном одним или двумя — очень мало тех, кто пользуется большим количеством услуг.  \n",
    "Зарплаты распределены равномерно, что свидетельствует о синтетической генерации данных, но заголовок столбца \"предполагаемая зарплата\" уже указывает, что эти данные были сделаны с помощью машинного обучения.\n"
   ]
  },
  {
   "cell_type": "markdown",
   "id": "4b2f6c36",
   "metadata": {},
   "source": [
    "##### Построение таблиц сопряженности\n",
    "Составим следующие таблицы сопряженности:\n",
    "1. Зависимость между гендером и оттоком\n",
    "2. Зависимость между географией и оттоком\n",
    "3. Зависимость между наличием кредитной карты и числом продуктов\n",
    "4. Зависимость между возрастом и оттоком\n",
    "5. Зависимость между сроком обслуживания в банке и оттоком\n",
    "6. Зависимость между балансом и оттоком"
   ]
  },
  {
   "cell_type": "code",
   "execution_count": null,
   "id": "4ceb113e",
   "metadata": {},
   "outputs": [],
   "source": [
    "# 1 зависимость гендера и оттока\n",
    "gender_exit = pd.crosstab(\n",
    "    index=dataset[\"gender\"],\n",
    "    columns=dataset[\"exited\"],\n",
    "    margins=True,\n",
    "    margins_name=\"all\",\n",
    "    normalize=\"index\"\n",
    ").round(3) * 100\n",
    "\n",
    "gender_exit"
   ]
  },
  {
   "cell_type": "markdown",
   "id": "a1f780b0",
   "metadata": {},
   "source": [
    "Здесь видно, что женщины уходят значительно чаще (25.1%), чем мужчины (16.5%). Это серьезный сигнал для маркетинга и продуктовой политики - возможно, сервисы банка недостаточно учитывают потребности женской аудитории."
   ]
  },
  {
   "cell_type": "code",
   "execution_count": null,
   "id": "99bbe24a",
   "metadata": {},
   "outputs": [],
   "source": [
    "# 2 зависимость географии и оттока\n",
    "geo_exit = pd.crosstab(\n",
    "    index=dataset[\"geography\"],\n",
    "    columns=dataset[\"exited\"],\n",
    "    margins=True,\n",
    "    margins_name=\"all\",\n",
    "    normalize=\"index\"\n",
    ").round(3) * 100\n",
    "\n",
    "geo_exit"
   ]
  },
  {
   "cell_type": "markdown",
   "id": "ab59f027",
   "metadata": {},
   "source": [
    "По данной таблице Германия демонстрирует тревожный уровень оттока - 32.4%, что в 2 раза выше, чем во Франции (16.2%) и Испании (16.7%). Это может указывать на проблемы с локализацией сервиса или более жесткую конкуренцию на немецком рынке. Но это также может быть связано с большим средним балансом у Германии, как это было выявлено при исследовательском анализе"
   ]
  },
  {
   "cell_type": "code",
   "execution_count": null,
   "id": "d73fe1a3",
   "metadata": {},
   "outputs": [],
   "source": [
    "# 3 зависимость наличия кредитной карты и числом продуктов\n",
    "card_products = pd.crosstab(\n",
    "    index=dataset[\"has_cr_card\"],\n",
    "    columns=dataset[\"num_of_products\"],\n",
    "    margins=True,\n",
    "    margins_name=\"all\"\n",
    ")\n",
    "\n",
    "card_products"
   ]
  },
  {
   "cell_type": "markdown",
   "id": "d9f4324d",
   "metadata": {},
   "source": [
    "Большинство клиентов (как с картой, так и без) используют 1-2 продукта. Интересно, что владельцы кредитных карт чаще используют 2 продукта, что подтверждает эффективность карты как инструмента кросс-продаж. Но это также может свидетельствовать об агрессивном маркетинге, когда кредитную карту навязывают клиенту в дополнение к интересующему продукту."
   ]
  },
  {
   "cell_type": "code",
   "execution_count": null,
   "id": "3267dfd6",
   "metadata": {},
   "outputs": [],
   "source": [
    "# 4 зависимость возраста и оттока. Для возраста определим возрастные категории\n",
    "dataset_for_age = dataset.copy()\n",
    "\n",
    "age_bins = [17, 30, 40, 50, 60, 95]\n",
    "age_labels = [\"18-30\", \"30-40\", \"40-50\", \"50-60\", \"60-95\"]\n",
    "dataset_for_age[\"age_group\"] = pd.cut(dataset_for_age[\"age\"], bins=age_bins, labels=age_labels)\n",
    "\n",
    "age_exit = pd.crosstab(\n",
    "    index=dataset_for_age[\"age_group\"],\n",
    "    columns=dataset_for_age[\"exited\"],\n",
    "    margins=True,\n",
    "    margins_name=\"all\",\n",
    "    normalize=\"index\"\n",
    ").round(3) * 100\n",
    "\n",
    "age_exit"
   ]
  },
  {
   "cell_type": "markdown",
   "id": "802bc5fe",
   "metadata": {},
   "source": [
    "Явная возрастная зависимость: клиенты 50-60 лет уходят чаще всего (56.2%), тогда как молодежь 18-30 лет наиболее лояльна (7.5% оттока). Однако стоит учесть, что людей 50-60 в общей статистике мало и даже небольшой уход.  \n",
    "Стоит обратить внимание на возрастную категорию 40-50, исходя из общей статистики видно, что таких людей много, но и отток составляет 34% - это крайне высокий показатель оттока."
   ]
  },
  {
   "cell_type": "code",
   "execution_count": null,
   "id": "99d18683",
   "metadata": {},
   "outputs": [],
   "source": [
    "# 5 зависимость срока обслуживания и оттока.\n",
    "tenure_exit = pd.crosstab(\n",
    "    index=dataset[\"tenure\"],\n",
    "    columns=dataset[\"exited\"],\n",
    "    margins=True,\n",
    "    margins_name=\"all\",\n",
    "    normalize=\"index\"\n",
    ").round(3) * 100\n",
    "\n",
    "tenure_exit"
   ]
  },
  {
   "cell_type": "markdown",
   "id": "355604a5",
   "metadata": {},
   "source": [
    "По срокам обслуживания отток относительно равномерен, но есть интересные исключения: клиенты 7-го года обслуживания наиболее лояльны (17.2% оттока, что на 2% меньше с ближайшим показателем), а новички со сроком обслуживания до 1 года показывают самый высокий показатель оттока\n",
    "> Здесь найдена ошибка - функция cut не учла клиентов с балансом = 0 из-за особенности работы функции, поэтому нижнюю границу исправил на -1, чтобы захватить клиентов с 0 балансом"
   ]
  },
  {
   "cell_type": "code",
   "execution_count": null,
   "id": "c22b1e95",
   "metadata": {},
   "outputs": [],
   "source": [
    "# 6 зависимость баланса и оттока. Для баланса создадим категории\n",
    "dataset_for_balance = dataset.copy()\n",
    "\n",
    "balance_bins = [-1, 30_000, 60_000, 90_000, 120_000, 150_000, 180_000, 240_000] # Исправлена ошибка, также последние группы объединены, потому что в группе 210к-240к крайне мало человек\n",
    "balance_labels = [\"0-30k\", \"30-60k\", \"60-90k\", \"90-120k\", \"120k-150k\", \"150k-180k\", \"180k-240k\"]\n",
    "\n",
    "dataset_for_balance[\"balance_group\"] = pd.cut(dataset_for_balance[\"balance\"], bins=balance_bins, labels=balance_labels)\n",
    "\n",
    "balance_exit = pd.crosstab(\n",
    "    index=dataset_for_balance[\"balance_group\"],\n",
    "    columns=dataset_for_balance[\"exited\"],\n",
    "    margins=True,\n",
    "    margins_name=\"all\",\n",
    "    normalize=\"index\"\n",
    ").round(4) * 100\n",
    "\n",
    "balance_exit"
   ]
  },
  {
   "cell_type": "markdown",
   "id": "4582a10e",
   "metadata": {},
   "source": [
    "На основании проведенного анализа распределения оттока клиентов по группам баланса выявлены следующие ключевые закономерности:  \n",
    "Наибольший уровень оттока наблюдается среди клиентов с высоким балансом на счетах - в группе 180к-240к показатель достигает 30%, что превышает среднее значение по выборке (20.36%). Это свидетельствует о системных проблемах в удержании премиального сегмента клиентской базы.  \n",
    "При этом клиенты с минимальным балансом (0-30к) демонстрируют аномально низкий уровень оттока (13.97%), что может объясняться низкой активностью данной группы.\n",
    "В сегментах со средним балансом (30к-180к) в целом наблюдается одинаковый отток, за исключением группы с балансом 60к-90к - в этой группе самый минимальный отток в этом сегменте. Исходя из этих данных стоит детально проанализировать клиентов с данным балансом и выявить закономерность почему клиенты предпочитают оставаться в банке."
   ]
  },
  {
   "cell_type": "markdown",
   "id": "d193f6e9",
   "metadata": {},
   "source": [
    "##### Проверка гипотез\n",
    "\n",
    "Для проверки были выбраны следующие гипотезы:\n",
    "1. География (geography) влияет на отток клиентов (exited). Данную гипотезу будем проверять с помощью x^2-теста (хи-квадрат)\n",
    "2. Новые клиенты (tenure ≤ 1 год) с высоким кредитным рейтингом (credit_score >= 750) уходят чаще (exited=True), чем новые клиенты с низким рейтингом (credit_score < 750). Данную гмпотезу будем проверять с помощью t-теста, т.к проверяются 2 группы клиентов.\n",
    "\n",
    "Проверять гипотезы будем с помощью библиотеки scipy - библиотеки для [научных вычислений](https://scipy.org/)"
   ]
  },
  {
   "cell_type": "code",
   "execution_count": null,
   "id": "40eefeb3",
   "metadata": {},
   "outputs": [],
   "source": [
    "# воспользуемся таблицей сопряженности из статистического анализа\n",
    "chi2, p_value, dof, expected = chi2_contingency(geo_exit)\n",
    "print(\"Результат теста:\")\n",
    "print(f\"x^2 = {chi2:.3f}, p-value = {p_value:.5f}\")"
   ]
  },
  {
   "cell_type": "markdown",
   "id": "374a20ff",
   "metadata": {},
   "source": [
    "Результат χ^2-теста (p-value = 0.017 < 0.05) показывает, что отток клиентов статистически значимо зависит от географии. Это означает, что в некоторых странах клиенты уходят чаще, чем в других."
   ]
  },
  {
   "cell_type": "code",
   "execution_count": null,
   "id": "fd7a3e51",
   "metadata": {},
   "outputs": [],
   "source": [
    "# проверка 2 гипотезы\n",
    "new_customers = dataset[dataset[\"tenure\"] <= 1]\n",
    "high_score_new_customers = new_customers[new_customers[\"credit_score\"] >= 750][\"exited\"]\n",
    "low_score_new_customers = new_customers[new_customers[\"credit_score\"] < 750][\"exited\"]\n",
    "\n",
    "t_stat, p_value = ttest_ind(high_score_new_customers, low_score_new_customers, equal_var=False)\n",
    "\n",
    "print(f\"t-статистика = {t_stat:.3f}\")\n",
    "print(f\"p-value = {p_value:.5f}\")"
   ]
  },
  {
   "cell_type": "markdown",
   "id": "4b8e6d56",
   "metadata": {},
   "source": [
    "Из данной проверки результат следующий - нет статистически значимых доказательств (p-value = 0.31658), что новые клиенты с высоким кредитным рейтингом (credit_score >= 750) уходят чаще, чем новые клиенты с низким рейтингом (credit_score > 750)  \n",
    "Отрицательное значение t-статистики говорит о том, что в среднем отток в группе с высоким кредитным рейтингом ниже, чем в группе с низким, но разница незначима.\n",
    "Это значит, что гипотеза не подтверждена, но при исследовательском анализе было выявлено, что клиенты со сроком обслуживания в банке до года и с высоким кредитным рейтингом показывают высокий отток. Возможно, необходима другая статистическая проверка из-за небольшого количества клиентов в данной группе по сравнению со всем датасетом."
   ]
  },
  {
   "cell_type": "markdown",
   "id": "627e6c25",
   "metadata": {},
   "source": [
    "##### Вывод по статистическому анализу\n",
    "\n",
    "В ходе статистического анализа с использованием методов визуализации распределений, группировки по целевому признаку `exited`, а также анализа средних и долей, были выявлены важные зависимости, влияющие на уход клиентов.  \n",
    "Анализ показал, что чаще всего уходят клиенты предпенсионного возраста (50-60 лет) и те, кто пользуется только одним продуктом банка (но это можно объяснить тем, что их половина от всей выборки). Это говорит о важности работы с вовлечённостью и необходимости предложений по расширению продуктовой линейки в банке.  \n",
    "Также выявлено, что часть клиентов с высоким балансом и хорошим кредитным рейтингом всё равно покидают банк — вероятно, не чувствуя ценности от текущих услуг. Это ключевая группа для удержания и персонализированных предложений.\n",
    "Также благодаря проверки гипотез была установлена взаимосвязь между оттоком и географией и благодаря статистическому анализу установлено, что самый большой отток показывают клиенты из Германии. Эти данные дают банку четкое понимание, что необходимо более детально разобраться в причинах такого оттока именно в Германии.\n"
   ]
  },
  {
   "cell_type": "markdown",
   "id": "2f1d0fef",
   "metadata": {},
   "source": [
    "#### Графический анализ данных\n",
    "\n",
    "Для начала построим график распределения клиентов по возрасту и странам, воспользовавшись dataset_for_age из статистического анализа"
   ]
  },
  {
   "cell_type": "code",
   "execution_count": null,
   "id": "c2bb7f08",
   "metadata": {},
   "outputs": [],
   "source": [
    "age_geo_dist = dataset_for_age.groupby([\"age_group\", \"geography\"]).size().unstack()\n",
    "plt.figure(figsize=(12, 6))\n",
    "\n",
    "palette_country = [\"#3498db\", \"#eb1e1e\", \"#db7500\"]\n",
    "\n",
    "# из статистического анализа берем распределение\n",
    "x = np.arange(len(age_labels))\n",
    "\n",
    "# столбцы\n",
    "for i, country in enumerate(age_geo_dist.columns):\n",
    "    plt.bar(x + i*0.25, age_geo_dist[country], \n",
    "            width=0.25, \n",
    "            color=palette_country[i],\n",
    "            edgecolor=\"black\",\n",
    "            linewidth=0.7,\n",
    "            label=country,\n",
    "            alpha=0.8)\n",
    "    \n",
    "# значения для столбцов\n",
    "for i, country in enumerate(age_geo_dist.columns):\n",
    "    for j, value in enumerate(age_geo_dist[country]):\n",
    "        plt.text(x[j] + i*0.25, value + 20, \n",
    "                f\"{value}\", \n",
    "                ha=\"center\", \n",
    "                va=\"bottom\",\n",
    "                fontsize=9)\n",
    "        \n",
    "plt.title(\"Распределение клиентов по возрастным группам и странам\", fontsize=16, pad=20)\n",
    "plt.xlabel(\"Возрастные группы\", fontsize=11)\n",
    "plt.ylabel(\"Количество клиентов\", fontsize=11)\n",
    "plt.xticks(x + 0.25, age_labels)\n",
    "plt.legend(title=\"Страны\", bbox_to_anchor=(1, 1))\n",
    "plt.grid(axis=\"y\", linestyle=\"-.\", alpha=0.4)\n",
    "plt.tight_layout()\n",
    "plt.savefig(\"../charts/distribution_age_graph.png\", bbox_inches=\"tight\", dpi=600)\n",
    "plt.show()"
   ]
  },
  {
   "cell_type": "markdown",
   "id": "545b48f2",
   "metadata": {},
   "source": [
    "Воспользуемся датасетом dataset_for_balance и его группами для отображения графика распределения баланса"
   ]
  },
  {
   "cell_type": "code",
   "execution_count": null,
   "id": "06a9a840",
   "metadata": {},
   "outputs": [],
   "source": [
    "balance_counts = dataset_for_balance[\"balance_group\"].value_counts().sort_index()\n",
    "\n",
    "plt.figure(figsize=(12, 6))\n",
    "bars = plt.bar(balance_counts.index, balance_counts.values,\n",
    "              color=palette_country[0],\n",
    "              edgecolor=\"black\", \n",
    "              linewidth=1.2,\n",
    "              width=0.7)\n",
    "\n",
    "for bar in bars:\n",
    "    height = bar.get_height()\n",
    "    plt.text(bar.get_x() + bar.get_width()/2, height + 20, \n",
    "             f\"{height}\", \n",
    "             ha=\"center\", va=\"bottom\",\n",
    "             fontsize=9)\n",
    "\n",
    "plt.title(\"Распределение клиентов по балансу на счете\", fontsize=14, pad=20)\n",
    "plt.xlabel(\"Группы баланса (в тыс.)\", fontsize=11)\n",
    "plt.ylabel(\"Количество клиентов\", fontsize=11)\n",
    "plt.xticks(rotation=45, ha='right')\n",
    "plt.grid(axis=\"y\", linestyle=\"-\", alpha=0.5)\n",
    "plt.tight_layout()\n",
    "plt.savefig(\"../charts/distribution_balance_graph.png\", bbox_inches=\"tight\", dpi=600)\n",
    "plt.show()"
   ]
  },
  {
   "cell_type": "markdown",
   "id": "3988c95c",
   "metadata": {},
   "source": [
    "Создадим общий график для отображения информации о балансе по странам, для этого отобразим центральные линии (медиану или 50й процентиль), границы (25й и 75й процентили), диапазон типичных значений с помощью графика boxplot, а также покажем точечный график (scatter) реального распределения баланса с модификациями для нормального отображения"
   ]
  },
  {
   "cell_type": "code",
   "execution_count": null,
   "id": "a26a1bbb",
   "metadata": {},
   "outputs": [],
   "source": [
    "fig, ax = plt.subplots(figsize=(10, 6))\n",
    "\n",
    "countries = dataset[\"geography\"].unique()\n",
    "box = ax.boxplot([dataset[dataset[\"geography\"] == c][\"balance\"] for c in countries],\n",
    "                labels=countries,\n",
    "                patch_artist=True,\n",
    "                widths=0.6,\n",
    "                showfliers=False)\n",
    "\n",
    "for patch, color in zip(box[\"boxes\"], palette_country):\n",
    "    patch.set_facecolor(color)\n",
    "    patch.set_alpha(0.7)\n",
    "\n",
    "\n",
    "for i, country in enumerate(countries):\n",
    "    country_data = dataset[dataset[\"geography\"] == country][\"balance\"]\n",
    "    y = country_data.sample(frac=0.3, random_state=1) # берем\n",
    "    x = np.random.normal(i+1, 0.07, size=len(y)) # это надо, чтобы все данные не были на одной координате x\n",
    "    ax.scatter(x, y, color=palette_country[i], alpha=0.4, s=14)\n",
    "\n",
    "\n",
    "ax.set_title(\"Распределение баланса по странам\", fontsize=14, pad=11)\n",
    "ax.set_ylabel(\"Баланс счета\", fontsize=11)\n",
    "ax.set_xlabel(\"Страны\", fontsize=11)\n",
    "ax.grid(axis=\"y\", linestyle=\"--\", alpha=0.4)\n",
    "\n",
    "\n",
    "plt.tight_layout()\n",
    "plt.savefig(\"../charts/distribution_balance_graph.png\", bbox_inches=\"tight\", dpi=600)\n",
    "plt.show()"
   ]
  },
  {
   "cell_type": "markdown",
   "id": "9a1c9f32",
   "metadata": {},
   "source": [
    "Выведем график распределения кредитного рейтинга по странам используя гистограмму и KDE "
   ]
  },
  {
   "cell_type": "code",
   "execution_count": null,
   "id": "b32b632e",
   "metadata": {},
   "outputs": [],
   "source": [
    "fig, ax = plt.subplots(figsize=(10, 6))\n",
    "\n",
    "# Гистограмма\n",
    "hist = ax.hist([dataset[dataset[\"geography\"] == c][\"credit_score\"] for c in countries],\n",
    "              bins=20,\n",
    "              density=True,\n",
    "              color=palette_country,\n",
    "              alpha=0.6,\n",
    "              label=countries,\n",
    "              stacked=True)\n",
    "\n",
    "# KDE\n",
    "for i, country in enumerate(countries):\n",
    "    sns.kdeplot(dataset[dataset[\"geography\"] == country][\"credit_score\"],\n",
    "               ax=ax,\n",
    "               color=palette_country[i],\n",
    "               linewidth=2,\n",
    "               label=country)\n",
    "\n",
    "# Настройки\n",
    "ax.set_title(\"Распределение кредитного рейтинга\", fontsize=14, pad=12)\n",
    "ax.set_xlabel(\"Кредитный рейтинг\", fontsize=12)\n",
    "ax.set_ylabel(\"Плотность\", fontsize=12)\n",
    "ax.legend()\n",
    "ax.grid(axis=\"y\", linestyle=\"--\", alpha=0.4)\n",
    "sns.despine()\n",
    "\n",
    "plt.tight_layout()\n",
    "plt.savefig(\"../charts/distribution_credit_graph.png\", bbox_inches=\"tight\", dpi=600)\n",
    "plt.show()"
   ]
  },
  {
   "cell_type": "markdown",
   "id": "9005917e",
   "metadata": {},
   "source": [
    "Составим график зависимости оттока клиентов от количества продуктов и активности клиента. На графике виден аномальный отток у пользователей с 3 и 4 продуктами, что можно связать с небольшим количеством таких клиентов или же это может быть тревожным сигналом для банка"
   ]
  },
  {
   "cell_type": "code",
   "execution_count": null,
   "id": "55951fea",
   "metadata": {},
   "outputs": [],
   "source": [
    "plt.figure(figsize=(10, 6))\n",
    "\n",
    "# Группируем данные\n",
    "heatmap_data = dataset.groupby([\"num_of_products\", \"is_active_member\"])[\"exited\"].mean().unstack()\n",
    "\n",
    "sns.heatmap(\n",
    "    heatmap_data * 100,\n",
    "    annot=True,\n",
    "    fmt=\".1f\",\n",
    "    cmap=\"YlOrRd\",\n",
    "    linewidths=0.5,\n",
    "    cbar_kws={\"label\": \"Процент оттока\"}\n",
    ")\n",
    "\n",
    "plt.title(\"Отток по количеству продуктов и активности\", fontsize=12, pad=20)\n",
    "plt.xlabel(\"Активный клиент\", fontsize=11)\n",
    "plt.ylabel(\"Количество продуктов\", fontsize=11)\n",
    "plt.xticks([0.5, 1.5], [\"Не активен\", \"Активен\"], rotation=0)\n",
    "plt.yticks(rotation=0)\n",
    "plt.savefig(\"../charts/distribution_balance_graph.png\", bbox_inches=\"tight\", dpi=600)\n",
    "plt.tight_layout()\n"
   ]
  },
  {
   "cell_type": "code",
   "execution_count": null,
   "id": "36899ee9",
   "metadata": {},
   "outputs": [],
   "source": [
    "for country in dataset[\"geography\"].unique():\n",
    "    sns.jointplot(x=\"balance\", y=\"estimated_salary\",\n",
    "                 data=dataset[dataset[\"geography\"] == country],\n",
    "                 kind=\"hex\",\n",
    "                 joint_kws={'gridsize': 30},\n",
    "                 marginal_kws={'color': '#3498db'},\n",
    "                 height=7,\n",
    "                 ratio=5)\n",
    "    plt.suptitle(f\"Сравнение баланса и зарплаты ({country})\", y=1)\n",
    "    plt.tight_layout()\n",
    "    plt.savefig(f\"../charts/comparison_bal_sal_{country}_graph.png\", bbox_inches=\"tight\", dpi=600)\n",
    "plt.show()"
   ]
  },
  {
   "cell_type": "markdown",
   "id": "4b5390b0",
   "metadata": {},
   "source": [
    "##### Портрет типичного клиента\n",
    "Типичный клиент, склонный к уходу из банка, чаще всего относится к возрастным группам 40–50 и 50–60 лет. Особенно тревожит отток VIP-клиентов с балансом свыше 200 000. Также в Германии зафиксирован самый высокий отток, что может указывать на недостаток персонализации сервиса, конкуренцией или локализацией услуг. Также стоит отметит, что клиенты из Германии имеют самый высокий средний баланс, можно предположить, что банк не предоставляет выгодных условий для хранения большого количества денег (сберегательные счета, вклады и т.к)  \n",
    "Клиенты, использующие 3–4 банковских продукта, уходят чаще. Новые клиенты (до года обслуживания в банке) также склонны к уход, возможно, из-за несоответствия ожиданий.  \n",
    "Женщины уходят в 1,5 раза чаще мужчин, что требует корректировки маркетинговых стратегий.  \n",
    "Интересно, что клиенты с нулевым балансом уходят реже, вероятно, из-за низкой активности. Клиенты с балансом 60–90 тыс. также показывают низкий отток.  \n",
    "Вывод: Основные группы риска — клиенты 40+, с несколькими продуктами, высоким балансом, новички и жители Германии. Для их удержания нужны индивидуальные программы."
   ]
  },
  {
   "cell_type": "markdown",
   "id": "7cd9fed8",
   "metadata": {},
   "source": [
    "#### Модель машинного обучения\n",
    "\n",
    "Так как при исследовательском анализе данных были выявлены нелинейные зависимости. Изначально для обучения был выбран метод `Random Forest` - этот метод строится на ансамбле деревьев, каждое из которых обучается на случайной выборке из тренировочных данных. Данный метод хорошо показал себя при определении тех, кто остается в банке (точность достигала 87%), однако модель плохо себя показала при определении тех, кто уходит (максимальная точность при подборе параметров составила 47%).  \n",
    "В датасете имеются категориальное признаки, поэтому вторая попытка сделать через CatBoost - алгоритм градиентного бустинга (Gradient Boosting), разработанный компанией Yandex для работы с категориальными признаками.\n",
    "\n",
    "##### Дополнительная подготовка данных\n",
    "В датасете содержится два категориальных признака - gender и geography. Данные признаки имеют 2 (male, female) и 3 (France, Spain, Germany) значения соответственно и не имеют порядок, а значит можно воспользоваться `One-Hot Encoding` - это метод преобразования категориальных признаков в числовой формат.  \n",
    "Для этого воспользуемся методами sklearn:"
   ]
  },
  {
   "cell_type": "code",
   "execution_count": null,
   "id": "06cb78df",
   "metadata": {},
   "outputs": [],
   "source": [
    "dataset_for_ml = dataset.copy()\n",
    "\n",
    "preprocessor = ColumnTransformer(\n",
    "    transformers=[\n",
    "        (\"cat\", OneHotEncoder(handle_unknown=\"ignore\"), [\"geography\", \"gender\"])\n",
    "    ],\n",
    "    remainder=\"passthrough\" \n",
    ")\n",
    "\n",
    "dataset_for_ml = preprocessor.fit_transform(dataset)\n",
    "feature_names = preprocessor.named_transformers_[\"cat\"].get_feature_names_out([\"geography\", \"gender\"])\n",
    "all_feature_names = list(feature_names) + [col for col in dataset.columns if col not in [\"geography\", \"gender\"]]\n",
    "\n",
    "\n",
    "dataset_for_ml = pd.DataFrame(dataset_for_ml, columns=all_feature_names)\n",
    "\n",
    "# Для однородности преобразуем булевые значения в int, а также после преобразования почему-то все типы данных стали object, поэтому все данные возвращаем в нормальный вид\n",
    "dataset_for_ml = dataset_for_ml.astype({\n",
    "    \"geography_france\": \"int8\",\n",
    "    \"geography_germany\": \"int8\",\n",
    "    \"geography_spain\": \"int8\",\n",
    "    \"gender_female\": \"int8\",\n",
    "    \"gender_male\": \"int8\",\n",
    "    \"credit_score\": \"int32\",\n",
    "    \"age\": \"int8\",\n",
    "    \"tenure\": \"int8\",\n",
    "    \"balance\": \"float64\",\n",
    "    \"num_of_products\": \"int16\",\n",
    "    \"has_cr_card\": \"int8\",\n",
    "    \"is_active_member\": \"int8\",\n",
    "    \"estimated_salary\": \"float64\",\n",
    "    \"exited\": \"int8\"\n",
    "})\n",
    "\n",
    "\n",
    "\n",
    "dataset_for_ml.head()"
   ]
  },
  {
   "cell_type": "code",
   "execution_count": null,
   "id": "c3550809",
   "metadata": {},
   "outputs": [],
   "source": [
    "dataset_for_ml.info()"
   ]
  },
  {
   "cell_type": "markdown",
   "id": "0804f600",
   "metadata": {},
   "source": [
    "Данный датасет выгружен в файл dataset_for_ml.csv с помощью расширения Data Wrangler в VScode\n",
    "\n",
    "##### Подбор гиперпараметров\n",
    "Разделим датасет на признаки и целевую переменную, затем разделим на обучающую и проверочную выборки"
   ]
  },
  {
   "cell_type": "code",
   "execution_count": null,
   "id": "a71a9e51",
   "metadata": {},
   "outputs": [],
   "source": [
    "x = dataset_for_ml.drop(\"exited\", axis=1)\n",
    "y = dataset_for_ml[\"exited\"]\n",
    "\n",
    "x_train, x_test, y_train, y_test = train_test_split(x, y, test_size=0.2, random_state=2, stratify=y)"
   ]
  },
  {
   "cell_type": "code",
   "execution_count": null,
   "id": "58c16ed5",
   "metadata": {},
   "outputs": [],
   "source": [
    "param_dist = {\n",
    "    \"iterations\": [1000],\n",
    "    \"learning_rate\": [0.01],\n",
    "    \"depth\": randint(4, 15),\n",
    "    \"l2_leaf_reg\": uniform(1, 5),\n",
    "    \"min_data_in_leaf\": randint(1, 20),\n",
    "    \"random_strength\": uniform(0.1, 5),\n",
    "    \"border_count\": randint(32, 255),\n",
    "    \"bagging_temperature\": uniform(0.1, 1.0),\n",
    "    \"grow_policy\": [\"SymmetricTree\", \"Depthwise\", \"Lossguide\"]\n",
    "}"
   ]
  },
  {
   "cell_type": "markdown",
   "id": "46189162",
   "metadata": {},
   "source": [
    "Подбор для случайного леса и catboost проводился с помощью `RandomizedSearchCV` - случайного поиска подходящих параметров "
   ]
  },
  {
   "cell_type": "code",
   "execution_count": null,
   "id": "a2967eca",
   "metadata": {},
   "outputs": [],
   "source": [
    "catboost_model = CatBoostClassifier(\n",
    "    verbose=0,\n",
    "    eval_metric='AUC',\n",
    "    random_seed=2\n",
    ")\n",
    "# подбор длился час, поэтому в коммент убрал\n",
    "# rs = RandomizedSearchCV(\n",
    "#     estimator=catboost_model,\n",
    "#     param_distributions=param_dist,\n",
    "#     scoring=\"roc_auc\",\n",
    "#     n_iter=100,\n",
    "#     cv=5,\n",
    "#     n_jobs=-1,\n",
    "#     random_state=2,\n",
    "#     verbose=1\n",
    "# )\n",
    "\n",
    "#rs.fit(x_train, y_train)"
   ]
  },
  {
   "cell_type": "code",
   "execution_count": null,
   "id": "134660fd",
   "metadata": {},
   "outputs": [],
   "source": [
    "# y_pred = rs.predict(x_test)\n",
    "# y_proba = rs.predict_proba(x_test)[:, 1] \n",
    "# print(\"Classification Report:\")\n",
    "# print(classification_report(y_test, y_pred))\n",
    "\n",
    "# print(\"ROC AUC Score:\", roc_auc_score(y_test, y_proba))\n",
    "# joblib.dump(rs.best_estimator_, \"../model/catboost_model.pkl\")\n"
   ]
  },
  {
   "cell_type": "markdown",
   "id": "1155f23b",
   "metadata": {},
   "source": [
    "Метрики показывают не очень хороший результат:  \n",
    "Для клиентов, которые не ушли (0) - precision = 0.87 (из тех, кого модель предсказала как оставшихся, 87% действительно остались), recall = 0.97 (модель почти всех оставшихся правильно определила), F1-score = 0.92 (очень хорошая производительность для этого класса). Таким образом это говорит о том, что модель очень хорошо справляется с предсказанием лояльных клиентов.  \n",
    "Что не сказать про предсказание тех, кто ушел (1) - precision = 0.79 (из тех, кого модель назвала \"ушедшими\", 79% действительно ушли), recall = 0.44 (модель смогла найти только 44% реальных случаев ухода - это плохой результат), F1-score = 0.57 (среднее между точностью и полнотой, нужна доработка). Это ключевой класс в задаче прогнозирования оттока, и его recall слишком низкий.  \n"
   ]
  },
  {
   "cell_type": "markdown",
   "id": "6810fa62",
   "metadata": {},
   "source": [
    "#### Выводы о проделанной работе\n",
    "\n",
    "1. Краткий итог\n",
    "Был проведён анализ данных банка для выявления причин оттока клиентов. Данные предварительно были очищены, обработаны и подготовлены к исследованию. Были изучены такие факторы, как возраст, количество продуктов, уровень активности, баланс, география и пол. Построены графики, выполнена группировка и проверены статистические гипотезы. Также создана модель машинного обучения (CatBoost), которая показала хорошие результаты в прогнозировании клиентов, которые остаются, но нестабильно определяет тех, кто уходит.\n",
    "2. Ответ на бизнес-задачу\n",
    "Бизнес задача была выполнена частично - данные были проанализированы и были выявлены группы клиентов, склонных чаще к оттоку. Модель машинного обучения также подготовлена, но она нуждается в доработке определения клиентов, которые уходят.  \n",
    "Ключевые группы, на которые необходимо обратить внимание: VIP-клиенты с высоким балансом, клиенты с 3–4 продуктами, новые клиенты, лица предпенсионного возраста. Также установлено, что женщины уходят чаще мужчин, а также чаще всех уходят клиенты из Германии\n",
    "3. Рекомендации для бизнеса\n",
    "Во-первых необходимо сделать более детальный анализ данных. Имеющиеся данные необходимо расширить, а именно: нужна дополнительная информация о кредитных картах (помимо наличия карты нужны данные о том, пользуются ли этой кредитной картой или нет, лимит на карте, среднемесячные траты по кредитной карте, сколько раз клиент пропускал платежи по карте), о транзакциях (средний чек, частота покупок).  \n",
    "Во-вторых необходимо пересмотреть стратегию работы с клиентами - выявлено много групп, что свидетельствует об отсутствии персонализации. Для этого необходимо более детально изучать каждую выделенную группу с дополнительными данными, а также разработка системы персонализированного предложения продуктов.  \n",
    "В-третьих необходима доработка модели машинного обучения - модель хорошо определяет людей, которые остаются в банке, но плохо определяет тех, кто уходит. Для улучшения можно воспользоваться увеличением доли класса ушедших клиентов (за счет увеличение выборки данных, а не за счет нового оттока клиентов).  \n",
    "В-четвертых необходимо пересмотреть продукты банка, тк выявлена закономерность, что при наличии 3-4 продуктов клиент с большой долей вероятности уйдет.\n",
    "4. Возможные пути развития\n",
    "После доработки модели машинного обучения можно создать полноценную систему для мониторинга риска оттока в реальном времени с помощью которой маркетологи смогут вовремя реагировать и предлагать клиенту условия, благодаря которым клиент не станет уходить.  \n",
    "Также можно проводить A/B тестирования предложений мер удержания.  \n",
    "Рекомендуется создать систему отзывов и использовать NLP для анализа причин недовольств клиентов."
   ]
  }
 ],
 "metadata": {
  "kernelspec": {
   "display_name": ".venv",
   "language": "python",
   "name": "python3"
  },
  "language_info": {
   "codemirror_mode": {
    "name": "ipython",
    "version": 3
   },
   "file_extension": ".py",
   "mimetype": "text/x-python",
   "name": "python",
   "nbconvert_exporter": "python",
   "pygments_lexer": "ipython3",
   "version": "3.12.11"
  }
 },
 "nbformat": 4,
 "nbformat_minor": 5
}
