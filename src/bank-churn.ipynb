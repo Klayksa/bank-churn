{
 "cells": [
  {
   "cell_type": "markdown",
   "id": "15e7769c",
   "metadata": {},
   "source": [
    "# Прогнозирование оттока клиентов банка\n",
    "---\n",
    "\n",
    "   \n",
    "\n",
    "\n",
    "#### Постановка бизнес-задачи, описание предметной области. <a name=\"first-stage\" id=\"first-stage\"></a>  \n",
    "\n",
    "##### Предметная область\n",
    "Рассматривается задача прогнозирования оттока клиентов банка. Отток (churn) - прекращение использования клиентом банковских услуг. Удержание клиентов - приоритет для бизнеса из-за высокой стоимости их привлечения.  \n",
    "\n",
    "\n",
    "##### Контекст бизнеса\n",
    "\n",
    "**Банки стремятся**:\n",
    "- Выявлять клиентов с высоким риском ухода\n",
    "- Повышать уровень удержания\n",
    "- Персонализировать предложения\n",
    "\n",
    "**Ключевые аспекты:**\n",
    "- Своевременное выявление оттока\n",
    "- Оптимизация маркетинговых и удерживающих кампаний\n",
    "- Увеличение прибыли за счёт лояльных клиентов\n",
    "\n",
    "\n",
    "\n",
    "##### Бизнес-задача\n",
    "Бизнес-задача – на основе имеющихся данных о клиентах проанализировать датасет для выявления причин ухода клиентов.\n",
    "\n",
    "**Цель:**\n",
    "- Снизить отток клиентов\n",
    "- Поддержки стабильной прибыли банков\n",
    "- Улучшения стратегий взаимодействия с клиентами\n",
    "\n",
    "\n",
    "##### Описание набора данных\n",
    "**Источник:** Kaggle - [Bank Customer Churn Prediction](https://www.kaggle.com/datasets/shubhammeshram579/bank-customer-churn-prediction)  \n",
    "**Объём:** ~10 000 клиентов  \n",
    "**Целевая переменная:** `Exited` (1 — клиент ушёл, 0 — остался)\n",
    "\n",
    "**Основные признаки**\n",
    "\n",
    "| Признак                | Тип            | Описание                                                  |\n",
    "|:-                      |:-:             |:-                                                         |\n",
    "| `CustomerId`           | Integer        | Уникальный идентификатор клиента                          |\n",
    "| `Surname`              | String         | Фамилия клиента                                           |\n",
    "| `CreditScore`          | Integer        | Кредитный рейтинг клиента                                 |\n",
    "| `Geography`            | String         | Страна проживания                                         |\n",
    "| `Gender`               | String         | Пол клиента                                               |\n",
    "| `Age`                  | Integer        | Возраст клиента                                           |\n",
    "| `Tenure`               | Integer        | Лет сотрудничества                                        |\n",
    "| `Balance`              | Float          | Остаток на счёте                                          |\n",
    "| `NumOfProducts`        | Integer        | Кол-во продуктов банка                                    |\n",
    "| `HasCrCard`            | Integer        | Наличие кредитной карты                                   |\n",
    "| `IsActiveMember`       | Float          | Активность клиента                                        |\n",
    "| `EstimatedSalary`      | Float          | Предполагаемый доход                                      |\n",
    "| `Exited`               | Integer        | Ушел ли клиент или нет (целевая переменная)               |\n",
    "\n",
    "\n",
    "##### Условные договоренности\n",
    "1. Будем считать, что кредитный рейтинг >=750 - это хороший кредитный рейтинг\n",
    "2. Будем считать, что кредитный рейтинг <=500 - это низкий кредитный рейтинг\n",
    "3. Будем считать, что клиенты с балансом >=200 000 - это особо важные (VIP) клиенты\n",
    "---"
   ]
  },
  {
   "cell_type": "markdown",
   "id": "a64a2e1d",
   "metadata": {},
   "source": [
    "#### Предобработка данных <a name=\"content-1\" id=\"content-1\"></a>"
   ]
  },
  {
   "cell_type": "code",
   "execution_count": null,
   "id": "7ef70079",
   "metadata": {},
   "outputs": [],
   "source": [
    "import pandas as pd\n",
    "import numpy as np"
   ]
  },
  {
   "cell_type": "markdown",
   "id": "2c150c00",
   "metadata": {},
   "source": [
    "##### Знакомство с данными <a name=\"content-11\" id=\"content-11\"></a>"
   ]
  },
  {
   "cell_type": "code",
   "execution_count": null,
   "id": "7a1437bc",
   "metadata": {},
   "outputs": [],
   "source": [
    "# Загрузка дата сета\n",
    "dataset = pd.read_csv(\"../data/churn.csv\")\n",
    "dataset"
   ]
  },
  {
   "cell_type": "code",
   "execution_count": null,
   "id": "aca8f9fa",
   "metadata": {},
   "outputs": [],
   "source": [
    "# первые 10 строк\n",
    "dataset.head(10)"
   ]
  },
  {
   "cell_type": "code",
   "execution_count": null,
   "id": "5670354d",
   "metadata": {},
   "outputs": [],
   "source": [
    "# последние 10 строк\n",
    "dataset.tail(10)"
   ]
  },
  {
   "cell_type": "code",
   "execution_count": null,
   "id": "b8f69b45",
   "metadata": {},
   "outputs": [],
   "source": [
    "# случайные 10 строк\n",
    "dataset.sample(10)"
   ]
  },
  {
   "cell_type": "code",
   "execution_count": null,
   "id": "95f59ea1",
   "metadata": {},
   "outputs": [],
   "source": [
    "# название колонок в датасете\n",
    "dataset.columns"
   ]
  },
  {
   "cell_type": "code",
   "execution_count": null,
   "id": "8dfe36df",
   "metadata": {},
   "outputs": [],
   "source": [
    "# размер датасета\n",
    "dataset.index"
   ]
  },
  {
   "cell_type": "code",
   "execution_count": null,
   "id": "ea44fad1",
   "metadata": {},
   "outputs": [],
   "source": [
    "# Общие сведения о датасете \n",
    "dataset.info()"
   ]
  },
  {
   "cell_type": "markdown",
   "id": "5d574e67",
   "metadata": {},
   "source": [
    "##### Проблемы при беглом анализе <a name=\"content-12\" id=\"content-12\"></a>\n",
    "При беглом осмотре можно сразу заметить несколько проблем в данном датасете:  \n",
    "1. Колонка RowNumber - по сути является счетчиком строк, что не нужно, т.к порядок строки в данных не влияет на результат\n",
    "2. Колонка CustomerId - уникальный идентификатор клиента, по сути не влияет на результат\n",
    "3. В колонке Age значения представлены в виде чисел с плавающей точкой (float), хотя возраст исчисляется целочисленно\n",
    "4. Колонки HasCrCard и IsActiveMember, возможно, содержат числа с плавающей точкой. В описании данных четко указано, что значениями могут быть только 1 (Да) и 0 (Нет)\n",
    "5. Колонка Gender, возможно, имеет только 2 значения - Male и Female, можно ввести ассоциацию: 1 (Male) и 2 (Female)\n",
    "6. Колонка Geography имеет только 3 значения - можно ввести ассоциацию: 1 (France), 2 (Spain), 3 (Germany)\n",
    "7. Были замечены пустые значения\n",
    "8. Названия колонок не соответствуют \"змеиному регистру\"\n",
    "9. У некоторых имен имеются спец символы\n",
    "10. У некоторых фамилий обнаружены спец. символы (например H? в строке с индексом 9)"
   ]
  },
  {
   "cell_type": "markdown",
   "id": "60f95da3",
   "metadata": {},
   "source": [
    "##### Детальный анализ датасета и каждого столбца <a name=\"content-13\" id=\"content-13\"></a>"
   ]
  },
  {
   "cell_type": "code",
   "execution_count": null,
   "id": "1152c232",
   "metadata": {},
   "outputs": [],
   "source": [
    "# типы данных каждого столбца\n",
    "dataset.dtypes"
   ]
  },
  {
   "cell_type": "code",
   "execution_count": null,
   "id": "4f763ac7",
   "metadata": {},
   "outputs": [],
   "source": [
    "# точное измерение памяти\n",
    "dataset.memory_usage(deep=True)"
   ]
  },
  {
   "cell_type": "code",
   "execution_count": null,
   "id": "8af9d025",
   "metadata": {},
   "outputs": [],
   "source": [
    "# поиск пустых значений по столбцам\n",
    "dataset.isnull().sum()"
   ]
  },
  {
   "cell_type": "code",
   "execution_count": null,
   "id": "8559aab3",
   "metadata": {},
   "outputs": [],
   "source": [
    "# детальный анализ каждого столбца\n",
    "\n",
    "for column in dataset.columns:\n",
    "    print(f\"Колонка {column}\")\n",
    "    print(f\"Тип данных: {dataset[column].dtype}\")\n",
    "    print(f\"Количество пустых значений: {dataset[column].isnull().sum()}\")\n",
    "    print(f\"Количество уникальных значений: {dataset[column].nunique()}\")\n",
    "    print(f\"Уникальные значения: {dataset[column].unique()}\")\n",
    "    print(f\"{dataset[column].describe()}\")\n",
    "    print()"
   ]
  },
  {
   "cell_type": "markdown",
   "id": "97fee330",
   "metadata": {},
   "source": [
    "При детальном анализе выявлены пустые значения, а также обнаружены столбцы, где можно привести данные в нормальную форму, например в колонке Age нужно привести к типу int.  \n",
    "Также было определено, что колонки Geography, Gender являются категориальными - это значит, что тип данных object можно привести к int с помощью ассоциаций."
   ]
  },
  {
   "cell_type": "markdown",
   "id": "a5bcd3bc",
   "metadata": {},
   "source": [
    "##### Исправление датасета <a name=\"content-14\" id=\"content-14\"></a>\n",
    "Сначала обработаем регистры в столбцах и в значениях столбцов"
   ]
  },
  {
   "cell_type": "code",
   "execution_count": null,
   "id": "e65923b2",
   "metadata": {},
   "outputs": [],
   "source": [
    "# Исправление регистров столбцов и приведение к \"змеиному регистру\"\n",
    "dataset.columns = (\n",
    "    dataset.columns\n",
    "    .str.replace(r'(?<=[a-z])([A-Z])', r'_\\1', regex=True)\n",
    "    .str.lower()\n",
    ")\n",
    "dataset.columns.to_list()"
   ]
  },
  {
   "cell_type": "markdown",
   "id": "e3771ccf",
   "metadata": {},
   "source": [
    "Далее удалим столбцы row_number и customer_id, surname, так как ими можно пренебречь"
   ]
  },
  {
   "cell_type": "code",
   "execution_count": null,
   "id": "e17c1db6",
   "metadata": {},
   "outputs": [],
   "source": [
    "dataset = dataset.drop([\"row_number\", \"customer_id\", \"surname\"], axis=1)"
   ]
  },
  {
   "cell_type": "markdown",
   "id": "4b912a2b",
   "metadata": {},
   "source": [
    "Для столбцов gender и geography изменим регистр"
   ]
  },
  {
   "cell_type": "code",
   "execution_count": null,
   "id": "6282cc2d",
   "metadata": {},
   "outputs": [],
   "source": [
    "# замена значений на ассоциации\n",
    "dataset[[\"gender\", \"geography\"]] = dataset[[\"gender\", \"geography\"]].apply(lambda x: x.str.lower())"
   ]
  },
  {
   "cell_type": "markdown",
   "id": "41b3901d",
   "metadata": {},
   "source": [
    "Обратим внимание, что в колонке geography неверно установился тип данных  \n",
    "Возможно это связано с наличием пропусков в колонке. Далее будет рассмотрена обработка пропусков и преобразование типов данных"
   ]
  },
  {
   "cell_type": "markdown",
   "id": "fcbb19b4",
   "metadata": {},
   "source": [
    "##### Обработка пропусков <a name=\"content-15\" id=\"content-15\"></a>\n",
    "В датасете было обнаружено 4 пропуска:"
   ]
  },
  {
   "cell_type": "code",
   "execution_count": null,
   "id": "f625d5b2",
   "metadata": {},
   "outputs": [],
   "source": [
    "rows_with_missing = dataset[dataset.isna().any(axis=1)]\n",
    "rows_with_missing"
   ]
  },
  {
   "cell_type": "markdown",
   "id": "08683a32",
   "metadata": {},
   "source": [
    "Для каждой замены необходимо выбрать те методы, которые сохранят статические свойства данных (в случае если заполнить их не представляется возможным - удалить):\n",
    "1. Для категориального значения в столбце geography воспользуемся модой (наиболее часто встречающееся значение). Данный способ сохраняет распределение категориальных признаков\n",
    "2. Для значения в столбце age воспользуемся медианой. Медиана устойчива к выбросам (в отличие от среднего), что важно для возраста, где могут быть аномально высокие или низкие значения.\n",
    "3. Если информация о наличии кредитной карты отсутствует (в столбце has_cr_card), разумно предположить, что её нет (более консервативный подход). Альтернатива — заполнение модой, но это может исказить данные, если большинство клиентов имеют карту. Поэтому заполним значение вручную\n",
    "4. Для значения в столбце is_active_member для минимизации искажения воспользуемся модой, т.к мода сохраняет доминирующую категорию без искажений"
   ]
  },
  {
   "cell_type": "code",
   "execution_count": null,
   "id": "bbc76181",
   "metadata": {},
   "outputs": [],
   "source": [
    "# geography \n",
    "dataset.loc[6, 'geography'] = dataset['geography'].mode()[0]\n",
    "\n",
    "# age\n",
    "dataset.loc[9, 'age'] = dataset['age'].median()\n",
    "\n",
    "# has_cr_card\n",
    "dataset.loc[4, 'has_cr_card'] = 0\n",
    "\n",
    "# is_active_member\n",
    "dataset.loc[8, 'is_active_member'] = dataset['is_active_member'].mode()[0]\n",
    "\n",
    "# перепроверка пропусков\n",
    "dataset.isnull().sum()"
   ]
  },
  {
   "cell_type": "markdown",
   "id": "9922ade1",
   "metadata": {},
   "source": [
    "##### Приведение значений столбцов к необходимым типам данных <a name=\"content-16\" id=\"content-16\"></a>\n",
    "В ходе анализа датасета установлено, что необходимо изменить следующие типы данных:\n",
    "1. credit_score с int64 на int32 (оптимизация памяти)\n",
    "2. geography не меняем\n",
    "3. gender не меняем\n",
    "4. age с float на int8 (изначально неверный тип данных)\n",
    "5. tenure c int64 на int8 (оптимизация памяти)\n",
    "6. num_of_products с int32 на int16 (оптимизация памяти)\n",
    "7. has_cr_card с float на bool (неверный тип данных)\n",
    "8. is_active_member c float на bool (неверный тип данных)\n",
    "9.  exited с int на bool (неверный тип данных)\n",
    "    \n",
    "В основном изменения типов данных нужны для оптимизации памяти, но присутствуют и неверные типы данных\n",
    "\n",
    ">Также нужно учесть особенности работы pandas с работой чисел с плавающей точкой (float):  \n",
    ">float64 является стандартным представлением чисел с плавающей точкой в pandas и в начальных настройках отображения данных автоматически показывает только 2 знака после точки, хотя float64 имеет точность ~16 знаков после запятой. Изменение данного типа данных на float32 может привести к большему накоплению ошибок, чем float64.  \n",
    ">Для денежных форматов необходимо использовать тип данных Decimal, но т.к датасет носит учебный характер - можно оставить float64."
   ]
  },
  {
   "cell_type": "code",
   "execution_count": null,
   "id": "94b6bf11",
   "metadata": {},
   "outputs": [],
   "source": [
    "dataset = dataset.astype({\n",
    "    'credit_score': 'int32',\n",
    "    'age': 'int8',\n",
    "    'tenure': 'int8',\n",
    "    'num_of_products': 'int16',\n",
    "    'has_cr_card': 'bool',\n",
    "    'is_active_member': 'bool',\n",
    "    'exited': 'bool'\n",
    "})\n",
    "\n",
    "# проверка отработало ли преобразование типов корректно или нет\n",
    "dataset.dtypes"
   ]
  },
  {
   "cell_type": "markdown",
   "id": "2118c554",
   "metadata": {},
   "source": [
    "##### Поиск дубликатов <a name=\"content-17\" id=\"content-17\"></a>"
   ]
  },
  {
   "cell_type": "code",
   "execution_count": null,
   "id": "95a2c53d",
   "metadata": {},
   "outputs": [],
   "source": [
    "# Поиск дубликатов\n",
    "dataset.duplicated().sum()"
   ]
  },
  {
   "cell_type": "code",
   "execution_count": null,
   "id": "6fc7190b",
   "metadata": {},
   "outputs": [],
   "source": [
    "# т.к нашлись дубликаты, выведем их\n",
    "duplicates = dataset[dataset.duplicated(keep=False)]\n",
    "duplicates"
   ]
  },
  {
   "cell_type": "markdown",
   "id": "3d6f7b95",
   "metadata": {},
   "source": [
    "На печати видно, что дубликаты полностью идентичны (9998 с 9999 и 10000 с 10001).\n",
    "Это может быть связано с разными причинами, например, ошибка при выгрузке датасета (на api или бд могли произойти сбои, которые вызвали повторную запись - это маловероятно, но не равно 0). Также стоит учесть, что это датасет для обучающихся и дублирование данных могло произойти нарочно.  \n",
    "Также стоит учесть, что могло произойти некорректное объединение нескольких датасетов в один.  \n",
    "Для устранения дублирования удалим дубликаты с сохранением одного экземпляра."
   ]
  },
  {
   "cell_type": "code",
   "execution_count": null,
   "id": "b67b7561",
   "metadata": {},
   "outputs": [],
   "source": [
    "dataset = dataset.drop_duplicates()\n",
    "dataset.duplicated().sum()"
   ]
  },
  {
   "cell_type": "markdown",
   "id": "9ae19156",
   "metadata": {},
   "source": [
    "##### Проверка датасета после предобработки данных <a name=\"content-18\" id=\"content-18\"></a>"
   ]
  },
  {
   "cell_type": "code",
   "execution_count": null,
   "id": "06139e7c",
   "metadata": {},
   "outputs": [],
   "source": [
    "dataset.head()"
   ]
  },
  {
   "cell_type": "code",
   "execution_count": null,
   "id": "3fa930fd",
   "metadata": {},
   "outputs": [],
   "source": [
    "dataset.info()"
   ]
  },
  {
   "cell_type": "code",
   "execution_count": null,
   "id": "cbb2734f",
   "metadata": {},
   "outputs": [],
   "source": [
    "dataset.memory_usage(deep=True)"
   ]
  },
  {
   "cell_type": "markdown",
   "id": "4ab2dea6",
   "metadata": {},
   "source": [
    "##### Вывод по первому этапу <a name=\"content-19\" id=\"content-19\"></a>\n",
    "\n",
    "В ходе предварительного анализа и обработки набора данных были выполнены следующие шаги и устранены выявленные проблемы:\n",
    "\n",
    "1. Были просмотрены первые и последние строки, случайная выборка, структура датасета, типы данных и использование памяти.  \n",
    "   Это позволило сформировать общее представление о содержимом датасета и выявить потенциальные проблемы: наличие ненужных столбцов, неунифицированные имена, категориальные признаки в строковом формате, пропуски в данных, дублирование данных и несоответствие типов данных.\n",
    "\n",
    "2. При анализе датасета были выявлены:\n",
    "   - Наличие неинформативных столбцов (`row_number`, `customer_id`), которые были удалены из датасета;\n",
    "   - Несоблюдение стиля наименования столбцов (`\"змеиного регистра\"`). В процессе обработки все строковые значения (включая название столбцов) были приведены к этому стилю;\n",
    "   - Наличие строкового формата у категориальных признаков (`gender`, `geography`). Для решения данной проблемы были созданы отдельные словари, а в датасете использованы цифровые ключи;\n",
    "   - Наличие пустых значений и дубликатов, которые в процессе были устранены;\n",
    "   - Несоответствие типов данных. После предобработки все данные были приведены к необходимым типам\n",
    "\n",
    "3. Столбец `surname` был очищен от специальных символов и приведён к нижнему регистру, после чего был закодирован с помощью pd.factorize, что позволило превратить строковый столбец в числовой идентификатор.\n",
    "   \n",
    "Таким образом данные были подготовлены к дальнейшему анализу.\n"
   ]
  },
  {
   "cell_type": "markdown",
   "id": "67c9767b",
   "metadata": {},
   "source": [
    "#### Исследовательский анализ данных\n",
    "\n",
    "\n",
    "##### Индексация данных\n",
    "\n",
    "В данном пункте рассматриваются 2 вида индексаций: по координатам и логическая.  \n",
    "Индексация по координатам осуществляет доступ к данным по их позиции в датасете. Используется, когда нужно обратиться к данным по их номерам строк и столбцов (чаще нужно для срезов).  \n",
    "Логическая индексация осуществляет доступ к данным по определенным условиям. Используется для выборки данных по условиям."
   ]
  },
  {
   "cell_type": "markdown",
   "id": "8e9239a5",
   "metadata": {},
   "source": [
    "Для индексации по координатам проанализируем определенные ситуации, когда необходимо взять данные по их позиции:\n",
    "1. Выделим только определенные финансовые показатели клиентов (кредитный рейтинг, баланс, наличие кредитной карты и предполагаемую зарплату)\n",
    "2. Выделим только демографические признаки клиентов (столбцы geography, gender, age)\n",
    "3. Выделим данные для анализа зависимости возраста, количества продуктов и баланса \n",
    "4. Создадим выборочные данные для проверки с помощью выделения каждого 20 клиента\n",
    "5. Выделим определенный диапазон клиентов (строк). Предположим, что в конце датасета содержится информация о новых клиентах\n",
    "\n",
    "(у меня не хватило фантазии для такого типа индексации)"
   ]
  },
  {
   "cell_type": "code",
   "execution_count": null,
   "id": "d100663b",
   "metadata": {},
   "outputs": [],
   "source": [
    "'''\n",
    "№ 1\n",
    "Сделаем выборку для анализа платежеспособности клиентов\n",
    "с помощью выделения финансовых показателей\n",
    "Для этого берем у всех клиентов только те столбцы, которые могут дать информацию о платежеспособности\n",
    "'''\n",
    "financial_indicators = dataset.iloc[:, [1, 6, 8, 10]]\n",
    "financial_indicators"
   ]
  },
  {
   "cell_type": "code",
   "execution_count": null,
   "id": "5eff6153",
   "metadata": {},
   "outputs": [],
   "source": [
    "'''\n",
    "№ 2\n",
    "Сделаем выборку для анализа по демографическому признаку\n",
    "Для этого берем у всех клиентов столбцы о географическом положении, гендее и возрасте\n",
    "'''\n",
    "demographics = dataset.iloc[:, [2, 3, 4]]\n",
    "demographics\n"
   ]
  },
  {
   "cell_type": "code",
   "execution_count": null,
   "id": "31c252a6",
   "metadata": {},
   "outputs": [],
   "source": [
    "'''\n",
    "№ 3\n",
    "Сделаем выборку для проверки зависимости возраста и баланса на количество продуктов в банке\n",
    "'''\n",
    "age_num_prod = dataset.iloc[:, [4, 6, 7]]\n",
    "age_num_prod"
   ]
  },
  {
   "cell_type": "code",
   "execution_count": null,
   "id": "23972891",
   "metadata": {},
   "outputs": [],
   "source": [
    "'''\n",
    "№ 4\n",
    "Сделаем выборочные данные, например, для оценки репрезентативности данных\n",
    "Для этого выберем каждого 20 клиента из датасета\n",
    "'''\n",
    "selection_data = dataset.iloc[::20, :]\n",
    "selection_data"
   ]
  },
  {
   "cell_type": "code",
   "execution_count": null,
   "id": "9ae3f167",
   "metadata": {},
   "outputs": [],
   "source": [
    "'''\n",
    "№ 5\n",
    "Предположим, что в конце датасета содержится информация о новых клиентах (т.е первые строки - это клиенты, которые были зарегистрированы в базе банка раньше)\n",
    "Для этого выберем последние 2000 клиентов из датасета \n",
    "'''\n",
    "new_clients = dataset.iloc[-2000:, :]\n",
    "new_clients"
   ]
  },
  {
   "cell_type": "markdown",
   "id": "e3de6377",
   "metadata": {},
   "source": [
    "Для логической индексации проанализируем следующие ситуации:\n",
    "1. Выделим клиентов пожилого возраста (старше 60 лет)\n",
    "2. Выделим клиентов с высоким кредитным рейтингом и низким балансом\n",
    "3. Выделим клиентов, которые ушли по гендеру\n",
    "4. Выделим клиентов с 2я и более продуктами, но без кредитной карты\n",
    "5. Выделим клиентов, которые ушли в первый год обслуживания в банке"
   ]
  },
  {
   "cell_type": "code",
   "execution_count": null,
   "id": "d329ac06",
   "metadata": {},
   "outputs": [],
   "source": [
    "'''\n",
    "№ 1\n",
    "Сделаем выборку для анализа активности клиентов пожилого возраста\n",
    "'''\n",
    "oldest_clients = dataset[dataset[\"age\"] >= 60]\n",
    "oldest_clients"
   ]
  },
  {
   "cell_type": "code",
   "execution_count": null,
   "id": "4c5d998a",
   "metadata": {},
   "outputs": [],
   "source": [
    "'''\n",
    "№ 2\n",
    "Сделаем выборку для поиска клиентов с высоким кредитным рейтингом (будем считать, что 750 это высокий кредитный рейтинг), но с низким балансом\n",
    "'''\n",
    "strange_behavior = dataset[(dataset[\"credit_score\"] >= 750) & (dataset[\"balance\"] <= 1000)]\n",
    "strange_behavior"
   ]
  },
  {
   "cell_type": "code",
   "execution_count": null,
   "id": "e7dcdb06",
   "metadata": {},
   "outputs": [],
   "source": [
    "'''\n",
    "№ 3.1\n",
    "Разделим ушедших клиентов по гендеру для поиска причин оттока (м)\n",
    "'''\n",
    "male_churn = dataset[(dataset[\"gender\"] == \"male\") & (dataset[\"exited\"] == True)]\n",
    "male_churn"
   ]
  },
  {
   "cell_type": "code",
   "execution_count": null,
   "id": "e0439e8e",
   "metadata": {},
   "outputs": [],
   "source": [
    "'''\n",
    "№ 3.2\n",
    "Разделим ушедших клиентов по гендеру для поиска причин оттока (ж)\n",
    "'''\n",
    "female_churn = dataset[(dataset[\"gender\"] == \"female\") & (dataset[\"exited\"] == True)]\n",
    "female_churn"
   ]
  },
  {
   "cell_type": "code",
   "execution_count": null,
   "id": "2b233889",
   "metadata": {},
   "outputs": [],
   "source": [
    "'''\n",
    "№ 4\n",
    "Выделим клиентов с 2 и более продуктами, но без кредитной карты для определения потенциальных кандидатов на предложение кредитной карты\n",
    "для такого анализа также важно, чтобы клиенты были активными\n",
    "'''\n",
    "credit_offer = dataset[(dataset[\"num_of_products\"] >= 2) & (dataset[\"has_cr_card\"] == False) & (dataset[\"is_active_member\"] == True)]\n",
    "credit_offer"
   ]
  },
  {
   "cell_type": "code",
   "execution_count": null,
   "id": "90d6ddf0",
   "metadata": {},
   "outputs": [],
   "source": [
    "'''\n",
    "№ 5\n",
    "Выделим клиентов, которые ушли в первый год обслуживания (т.к tenure у нас целочисленное, то будем считать клиентов с tenure<=1)\n",
    "'''\n",
    "departed_new_clients = dataset[(dataset[\"tenure\"] <= 1) & (dataset[\"exited\"] == True)]\n",
    "departed_new_clients"
   ]
  },
  {
   "cell_type": "markdown",
   "id": "caa7b214",
   "metadata": {},
   "source": [
    "##### Сортировка данных\n",
    "Благодаря сортировки данных мы можем проанализировать максимальные и минимальные значения данных для выявления групп риска.  \n",
    "Выполним сортировку по следующим столбцам: \n",
    "1. По кредитному рейтингу\n",
    "2. По возрасту\n",
    "3. По балансу\n",
    "4. По количеству продуктов\n",
    "Также выполним одну многоуровневую сортировку для выявления новых клиентов с высоким кредитным рейтингом, но которые ушли из банка  \n",
    "\n",
    ">Параметр `ascending` определяет порядок сортировки (True - по возрастанию, False - по убыванию)"
   ]
  },
  {
   "cell_type": "code",
   "execution_count": null,
   "id": "872cf1fc",
   "metadata": {},
   "outputs": [],
   "source": [
    "'''\n",
    "№ 1 Сортировка по кредитному рейтингу\n",
    "Благодаря данной сортировки мы можем взять с помощью индексации по координатам клиентов с низким рейтингом и высоким и отдельно их проанализировать\n",
    "'''\n",
    "dataset_sorted_credit = dataset.sort_values(\"credit_score\", ascending=False)\n",
    "dataset_sorted_credit"
   ]
  },
  {
   "cell_type": "code",
   "execution_count": null,
   "id": "84044f60",
   "metadata": {},
   "outputs": [],
   "source": [
    "# дополнительный вывод строк, тк видна связь между рейтингом и исходом\n",
    "dataset_sorted_credit.tail(20)"
   ]
  },
  {
   "cell_type": "markdown",
   "id": "a72681e2",
   "metadata": {},
   "source": [
    "Благодаря сортировке по кредитному рейтингу удалось выделить клиентов с максимальным и минимальным возможным в данном датасете кредитном рейтинге.  \n",
    "Из этих данных можно увидеть, что почти все клиенты с низким рейтингом имеют кредитную карты, а также топ-20 клиентов с низким рейтингом покинули банк.  \n",
    "Также стоит отметить, что топ-5 клиентов по кредитному рейтингу остаются в банке.  \n",
    "Таким образом можно сделать вывод, что клиенты с низким кредитным рейтингом являются группой с высоким риском ухода из банка."
   ]
  },
  {
   "cell_type": "code",
   "execution_count": null,
   "id": "0cbe855b",
   "metadata": {},
   "outputs": [],
   "source": [
    "'''\n",
    "№ 2 Сортировка по возрасту\n",
    "Благодаря данной сортировки можно разделить клиентов по возрастным группам, разделив датасет на несколько частей для определения стратегий работы с каждой вохрастной группой отдельно\n",
    "'''\n",
    "dataset_sorted_age = dataset.sort_values(\"age\", ascending=False)\n",
    "dataset_sorted_age"
   ]
  },
  {
   "cell_type": "markdown",
   "id": "c64de1c3",
   "metadata": {},
   "source": [
    "Анализируя данные стоит отметить, что крайние возрастные группы не проявляют высокого оттока. Это значит, что нужно более детально проанализировать клиентов среднего возраста. Также стоит отметить, что баланс не всегда влияет на отток - и молодые и старшие клиенты с нулевым балансом остаются в банке."
   ]
  },
  {
   "cell_type": "code",
   "execution_count": null,
   "id": "3153c697",
   "metadata": {},
   "outputs": [],
   "source": [
    "'''\n",
    "№ 3 Сортировка по балансу\n",
    "Благодаря данной сортировки можно разделить людей с очень высоким балансом и очень низким\n",
    "'''\n",
    "dataset_sorted_balance = dataset.sort_values(\"balance\", ascending=False)\n",
    "dataset_sorted_balance"
   ]
  },
  {
   "cell_type": "markdown",
   "id": "6199c074",
   "metadata": {},
   "source": [
    "Исходя из данных можно сделать вывод:  \n",
    "Клиенты с очень высоким остатком на счёте (>= 200 000) нужно расценивать как VIP клиентов. Если среди них есть те, кто ушёл из банка, это тревожный сигнал, т.к такие клиенты ценны для бизнеса. При анализе видно, что клиенты с самым высоким балансом ушли из банка, а значит банку необходимо пересмотреть стратегию работы с VIP клиентами.  \n",
    "Также интересны клиенты с нулевым балансом — это может быть как неактивный клиент, так и клиент, использующий только кредитные продукты."
   ]
  },
  {
   "cell_type": "code",
   "execution_count": null,
   "id": "00d23665",
   "metadata": {},
   "outputs": [],
   "source": [
    "'''\n",
    "№ 4 Сортировка по количеству продуктов\n",
    "Благодаря данной сортировки можно явно выделить клиентов с большим количеством продуктов и тех клиентов, которые вообще не имеют продуктов (но в данном датасете таких нет)\n",
    "'''\n",
    "dataset_sorted_num_prod = dataset.sort_values(\"num_of_products\", ascending=False)\n",
    "dataset_sorted_num_prod"
   ]
  },
  {
   "cell_type": "code",
   "execution_count": null,
   "id": "43e01779",
   "metadata": {},
   "outputs": [],
   "source": [
    "# дополнительный вывод, тк замечена связь между максимальным количеством продуктов и исходом\n",
    "dataset_sorted_num_prod.head(20)"
   ]
  },
  {
   "cell_type": "markdown",
   "id": "a4f3e784",
   "metadata": {},
   "source": [
    "Исходя из данной сортировки можно наблюдать следующее:  \n",
    "Клиенты, у которых больше всего банковских продуктов (4), гораздо чаще уходят, чем те, у кого 1 продукт.  \n",
    "Из данного наблюдения можно сформировать следующий риск - риск ухода возрастает с увеличением числа продуктов. Это может быть связано с плохим уровнем поддержки продуктов (банк продал 4 продукта, которые плохо взаимодействуют между собой, что могло вызвать недовольство клиентов)\n"
   ]
  },
  {
   "cell_type": "code",
   "execution_count": null,
   "id": "9f5be189",
   "metadata": {},
   "outputs": [],
   "source": [
    "'''\n",
    "№ 5 Многоуровневая сортировка для выявления новых клиентов с высоким кредитным рейтингом, но которые ушли из банка  \n",
    "Благодаря данной сортировки можно выявить клиентов для дальнейшего поиска причин ухода\n",
    "'''\n",
    "dataset_sorted_multi_level = dataset.sort_values([\"tenure\", \"exited\", \"credit_score\"], ascending=[True, False, False])\n",
    "dataset_sorted_multi_level"
   ]
  },
  {
   "cell_type": "code",
   "execution_count": null,
   "id": "7a151dde",
   "metadata": {},
   "outputs": [],
   "source": [
    "# дополнительный вывод, тк замечена связь\n",
    "dataset_sorted_multi_level.head(20)"
   ]
  },
  {
   "cell_type": "markdown",
   "id": "ed45b9f5",
   "metadata": {},
   "source": [
    "Из анализа видно, что новые клиенты (до 1 года обслуживания в банке) с высоким кредитным рейтингом ушли.  \n",
    "Это очень важный сигнал для бизнеса - банк теряет новых, надежных (с точки зрения кредитного рейтинга) клиентов.  \n",
    "Данная проблема может быть связана с:\n",
    "1. Сервисы банка не соответствуют ожиданию;\n",
    "2. Нет нормальной поддержки продуктов\n",
    "3. Отсутствие персонального сопровождения.\n",
    "\n",
    "\n",
    "Из всего текущего анализа можно выделить основные группы риска - клиенты с низким кредитным рейтингом (=<500) и новые клиенты с высоким рейтингом, уходящие в первый год, что может указывать на слабую конкурентноспособность анализируемой банковской системы. Особенно нужно обратить внимание на уход VIP-клиентов (баланс >=200 000) и клиентов с 4+ продуктами - вероятно из-за сложного обслуживания или более выгодных условий конкурентов.  \n",
    "На текущий момент можно сделать следующее `предположение`:  \n",
    ">Текущий анализ данных показывает картину консервативной банковской системы в 3х представленных странах. Данная банковская система недооценивала важность персональных услуг и длительное время работала по универсальным шаблонам. Особенно это видно по уходу VIP клиентов (те, у которых баланса >200 000). В такой ситуации банковской системе срочно нужно перестраиваться и улучшать свои сервисы"
   ]
  },
  {
   "cell_type": "markdown",
   "id": "012076cf",
   "metadata": {},
   "source": [
    "##### Фильтрация данных с помощью query и where\n",
    "\n",
    "`query` используйте для сложных условий в одну строку  \n",
    "Через query определим следующие данные:\n",
    "1. Клиенты с низким кредитным рейтингом, которые ушли\n",
    "2. Клиенты с высоким балансом, которые ушли\n",
    "3. Новые клиенты, которые ушли\n",
    "4. Клиенты с 4 банковскими продуктами, которые ушли\n",
    "5. Активные клиенты с нулевым балансом\n",
    "\n",
    "`where` применяйте для категоризации и сегментации  \n",
    "Через where определим следующие данные:\n",
    "1. Клиенты с высоким кредитным рейтингом\n",
    "2. Пожилые клиенты с высоким балансом\n",
    "3. Клиенты с высоким доходом, но неактивные\n",
    "4. Клиенты, ушедшие в первые 2 года\n",
    "5. Мужчины и женщины (отдельно) с 1 банковским продуктом"
   ]
  },
  {
   "cell_type": "code",
   "execution_count": null,
   "id": "d40c795b",
   "metadata": {},
   "outputs": [],
   "source": [
    "# 1.1 - Клиенты с низким кредитным рейтингом, которые ушли\n",
    "low_credit_score = dataset.query(\"credit_score <= 500 and exited == True\")\n",
    "low_credit_score"
   ]
  },
  {
   "cell_type": "code",
   "execution_count": null,
   "id": "e1172ed6",
   "metadata": {},
   "outputs": [],
   "source": [
    "# 1.2 - Клиенты с высоким балансом, которые ушли\n",
    "high_balance_churned = dataset.query(\"balance >= 200000 and exited == True\")\n",
    "high_balance_churned"
   ]
  },
  {
   "cell_type": "code",
   "execution_count": null,
   "id": "93ea18d8",
   "metadata": {},
   "outputs": [],
   "source": [
    "# 1.3 - Новые клиенты, которые ушли\n",
    "new_clients_churned = dataset.query(\"tenure <= 1 and exited == True\")\n",
    "new_clients_churned"
   ]
  },
  {
   "cell_type": "code",
   "execution_count": null,
   "id": "1de33fe8",
   "metadata": {},
   "outputs": [],
   "source": [
    "# 1.4 - Клиенты с 4 продуктами, которые ушли\n",
    "multi_product_churned = dataset.query(\"num_of_products == 4 and exited == True\")\n",
    "multi_product_churned"
   ]
  },
  {
   "cell_type": "code",
   "execution_count": null,
   "id": "01c64a89",
   "metadata": {},
   "outputs": [],
   "source": [
    "# 1.5 - Активные клиенты с нулевым балансом\n",
    "active_zero_balance = dataset.query(\"balance == 0 and is_active_member == True\")\n",
    "active_zero_balance"
   ]
  },
  {
   "cell_type": "code",
   "execution_count": null,
   "id": "f18e855d",
   "metadata": {},
   "outputs": [],
   "source": [
    "# Для метода numpy.where скопируем датасет и будем работать с копией\n",
    "dataset_copy = dataset.copy()"
   ]
  },
  {
   "cell_type": "code",
   "execution_count": null,
   "id": "f121e127",
   "metadata": {},
   "outputs": [],
   "source": [
    "# 2.1 - Клиенты с высоким кредитным рейтингом\n",
    "dataset_copy[\"high_credit\"] = np.where(dataset_copy[\"credit_score\"] > 750, \"high\", \"normal\")\n",
    "high_credit_clients = dataset_copy[dataset_copy[\"high_credit\"] == \"high\"]\n",
    "high_credit_clients"
   ]
  },
  {
   "cell_type": "code",
   "execution_count": null,
   "id": "bff00c24",
   "metadata": {},
   "outputs": [],
   "source": [
    "# 2.2 - Пожилые клиенты с высоким балансом\n",
    "dataset_copy[\"senior_vip\"] = np.where(\n",
    "    (dataset_copy[\"age\"] > 60) & (dataset_copy[\"balance\"] > 100000), \n",
    "    \"vip\", \n",
    "    \"other\"\n",
    ")\n",
    "senior_vip = dataset_copy[dataset_copy[\"senior_vip\"] == \"vip\"]\n",
    "senior_vip"
   ]
  },
  {
   "cell_type": "code",
   "execution_count": null,
   "id": "9896577a",
   "metadata": {},
   "outputs": [],
   "source": [
    "# 2.3 - Клиенты с высоким доходом, но неактивные\n",
    "dataset_copy[\"rich_inactive\"] = np.where(\n",
    "    (dataset_copy[\"estimated_salary\"] > 100000) & (dataset_copy[\"is_active_member\"] == False),\n",
    "    \"rich_inactive\",\n",
    "    \"active\"\n",
    ")\n",
    "inactive_rich = dataset_copy[dataset_copy[\"rich_inactive\"] == \"rich_inactive\"]\n",
    "inactive_rich"
   ]
  },
  {
   "cell_type": "code",
   "execution_count": null,
   "id": "e934835a",
   "metadata": {},
   "outputs": [],
   "source": [
    "# 2.4 - Клиенты, ушедшие в первые 2 года\n",
    "dataset_copy[\"early_churn\"] = np.where(\n",
    "    (dataset_copy[\"tenure\"] <= 2) & (dataset_copy[\"exited\"] == True),\n",
    "    \"early_churn\",\n",
    "    \"loyal\"\n",
    ")\n",
    "early_churners = dataset_copy[dataset_copy[\"early_churn\"] == \"early_churn\"]\n",
    "early_churners"
   ]
  },
  {
   "cell_type": "code",
   "execution_count": null,
   "id": "1599c499",
   "metadata": {},
   "outputs": [],
   "source": [
    "# 2.5 - Мужчины и женщины с 1 продуктом\n",
    "dataset_copy[\"gender_one_product\"] = np.where(\n",
    "    (dataset_copy[\"num_of_products\"] == 1),\n",
    "    dataset_copy[\"gender\"].map({\"male\": \"male_one_product\", \"female\": \"female_one_product\"}), \"other\"\n",
    ")\n",
    "male_one_product = dataset_copy[dataset_copy[\"gender_one_product\"] == \"male_one_product\"]\n",
    "female_one_product = dataset_copy[dataset_copy[\"gender_one_product\"] == \"female_one_product\"]\n",
    "\n",
    "male_one_product"
   ]
  },
  {
   "cell_type": "code",
   "execution_count": null,
   "id": "637c94c1",
   "metadata": {},
   "outputs": [],
   "source": [
    "female_one_product"
   ]
  },
  {
   "cell_type": "markdown",
   "id": "9058b3c0",
   "metadata": {},
   "source": [
    "##### Составление сводных таблиц\n",
    "\n",
    "В рамках данной задачи сформируем 3 сводные таблицы:\n",
    "1. Отток по гендеру и наличию кредитной карты"
   ]
  },
  {
   "cell_type": "code",
   "execution_count": null,
   "id": "a410c48a",
   "metadata": {},
   "outputs": [],
   "source": [
    "pivot_gender_card = dataset.pivot_table(\n",
    "    index='gender',\n",
    "    columns='has_cr_card',\n",
    "    values='exited',\n",
    "    aggfunc='mean',\n",
    "    margins=True\n",
    ")\n",
    "pivot_gender_card"
   ]
  },
  {
   "cell_type": "markdown",
   "id": "85e884c1",
   "metadata": {},
   "source": [
    "По данной сводной таблице можно заметить значительный гендерный разрыв в оттоке клиентов: женщины уходят на 50% чаще мужчин (25.1% против 16.5%). Наличие кредитной карты снижает отток лишь незначительно (на 0.5-0.6%)"
   ]
  },
  {
   "cell_type": "markdown",
   "id": "85a6052f",
   "metadata": {},
   "source": [
    "2. Отток по активности и количеству продуктов"
   ]
  },
  {
   "cell_type": "code",
   "execution_count": null,
   "id": "517f10c2",
   "metadata": {},
   "outputs": [],
   "source": [
    "pivot_activity_products = dataset.pivot_table(\n",
    "    index='is_active_member',\n",
    "    columns='num_of_products',\n",
    "    values='exited',\n",
    "    aggfunc='count'\n",
    ")\n",
    "\n",
    "pivot_activity_products = pivot_activity_products.rename(index={0: \"inactive\", 1: \"active\"})\n",
    "pivot_activity_products"
   ]
  },
  {
   "cell_type": "markdown",
   "id": "c2768b34",
   "metadata": {},
   "source": [
    "Основной количество клиентов (около 5000) имеют 1-2 продукта. Клиентов с 3-4 продуктами значительно меньше (всего 326), причем активных пользователей среди них крайне мало (113 и 29 соответственно)"
   ]
  },
  {
   "cell_type": "markdown",
   "id": "5b0d4831",
   "metadata": {},
   "source": [
    "3. Средние баланс и зарплата ушедших/оставшихся клиентов"
   ]
  },
  {
   "cell_type": "code",
   "execution_count": null,
   "id": "9689ea5a",
   "metadata": {},
   "outputs": [],
   "source": [
    "pivot_balance_salary = dataset.pivot_table(\n",
    "    index='exited',\n",
    "    values=['balance', 'estimated_salary'],\n",
    "    aggfunc='mean'\n",
    ")\n",
    "pivot_balance_salary = pivot_balance_salary.rename(index={0: \"stayed\", 1: \"left\"})\n",
    "pivot_balance_salary"
   ]
  },
  {
   "cell_type": "markdown",
   "id": "b0eaf35d",
   "metadata": {},
   "source": [
    "Из этих данных можно заметить, что предполагаемая зарплата ушедших и оставшихся клиентов почти одинаковая, но значительно (на 18 363, что примерно 20%) отличается баланс.  \n",
    "Можно предположить, что оставшиеся клиенты больше тратят, а ушедшие предпочитают копить, но для такого предположения необходимо проанализировать количество транзакций, которых в данном датасете нет. "
   ]
  },
  {
   "cell_type": "markdown",
   "id": "bfecea61",
   "metadata": {},
   "source": [
    "##### Группировка данных\n",
    "\n",
    "Исходя из предыдущего анализа, выделим следующие группы и вычислим агрегатные функции:\n",
    "1. Клиенты с низким кредитным рейтингом\n",
    "2. Новые клиенты с высоким кредитным рейтингом\n",
    "3. Ушедшие VIP-клиенты\n",
    "4. Клиенты с 3+ продуктами\n",
    "   \n",
    "В данном анализе используются следующие агрегатные функции:\n",
    "- `mean` – среднее арифметическое значение\n",
    "- `median` – возвращает значение, которое делит данные пополам (50-й перцентиль)\n",
    "- `min` – минимальное значение\n",
    "- `max` – максимальное значение\n",
    "- `count` – количество непустых значений\n",
    "- `std` – стандартное отклонение\n",
    "- `var` – дисперсия\n",
    "- `skew` - коэффициент асимметрии\n"
   ]
  },
  {
   "cell_type": "code",
   "execution_count": null,
   "id": "eaf55567",
   "metadata": {},
   "outputs": [],
   "source": [
    "# 1 Клиенты с низким кредитным рейтингом\n",
    "low_credit_stats = dataset[dataset[\"credit_score\"] <= 500].groupby(\"exited\").agg({\n",
    "    \"age\": \"median\",\n",
    "    \"balance\": [\"mean\", \"median\", \"count\", \"std\", \"skew\"],\n",
    "    \"num_of_products\": [\"mean\", \"var\"],\n",
    "    \"has_cr_card\": \"mean\",\n",
    "    \"tenure\": [\"min\", \"max\", \"mean\"],\n",
    "    \"estimated_salary\": \"median\"\n",
    "}).round(2)\n",
    "low_credit_stats"
   ]
  },
  {
   "cell_type": "markdown",
   "id": "7311e13b",
   "metadata": {},
   "source": [
    "Анализ клиентов с низким кредитным рейтингом (≤500) показал, что ушедшие клиенты в среднем старше (медианный возраст 46 против 35 лет) и имеют более высокие финансовые показатели: их средний баланс на 16,8% выше, а медианная зарплата — на 17,4%. При этом распределение количества продуктов у них более неравномерное (дисперсия в 2,5 раза выше), что указывает на две ключевые группы риска: клиенты с одним продуктом (низкая вовлеченность) и клиенты с тремя и более продуктами (потенциальная перегруженность или отсутствие нормальной поддержки продуктов)."
   ]
  },
  {
   "cell_type": "code",
   "execution_count": null,
   "id": "2605672e",
   "metadata": {},
   "outputs": [],
   "source": [
    "# 2 Новые клиенты с высоким кредитным рейтингом (группируем сразу по 2ум признакам - гендер и исход)\n",
    "new_high_credit_stats = dataset[(dataset[\"credit_score\"] >= 750) & \n",
    "                              (dataset[\"tenure\"] <= 1)].groupby([\"exited\", \"gender\"]).agg({\n",
    "    \"age\": [\"median\"],\n",
    "    \"balance\": [\"mean\", \"median\", \"count\", \"std\", \"skew\"],\n",
    "    \"num_of_products\": [\"mean\", \"var\"],\n",
    "    \"estimated_salary\": [\"mean\", \"median\", \"count\", \"std\", \"skew\"],\n",
    "    \"is_active_member\": \"mean\"\n",
    "}).round(2)\n",
    "new_high_credit_stats"
   ]
  },
  {
   "cell_type": "markdown",
   "id": "01298690",
   "metadata": {},
   "source": [
    "Анализ новых клиентов с высоким кредитным рейтингом (≥750) и сроком сотрудничества ≤1 год подтверждает, что ушедшие клиенты значительно старше (медианный возраст 47–48 лет против 36–37 у оставшихся) и имеют больший баланс (средний 102,735 у женщин и 84,124 у мужчин против 77,590–80,781 у лояльных). При этом их активность ниже (47% у женщин и 27% у мужчин против 61–62%), а зарплаты слабо коррелируют с оттоком.\n",
    "\n",
    "Исходя из анализа уже двух групп можно сделать вывод:  \n",
    "> Банк теряет финансово обеспеченных клиентов старшего возраста уже в первый год, вероятно, из-за несоответствия условий их потребностям."
   ]
  },
  {
   "cell_type": "code",
   "execution_count": null,
   "id": "ee8037b8",
   "metadata": {},
   "outputs": [],
   "source": [
    "# 3 Ушедшие VIP-клиенты\n",
    "vip_churned_stats = dataset[(dataset[\"balance\"] >= 200000) & \n",
    "                          (dataset[\"exited\"] == True)].groupby([\"geography\", \"num_of_products\"]).agg({\n",
    "    \"age\": \"median\",\n",
    "    \"tenure\": [\"mean\", \"median\", \"std\"],\n",
    "    \"credit_score\": [\"mean\", \"median\", \"min\", \"max\", \"count\"],\n",
    "    \"is_active_member\": \"mean\",\n",
    "    \"estimated_salary\": [\"mean\", \"median\", \"count\", \"std\", \"skew\"]\n",
    "}).round(2)\n",
    "vip_churned_stats"
   ]
  },
  {
   "cell_type": "markdown",
   "id": "088456be",
   "metadata": {},
   "source": [
    "При анализе участвуют VIP-клиенты из 2 регионов - Франция и Испания.  \n",
    "Во Франции клиенты с 1м продуктом уходят в среднем после 5.4 лет (медианный возраст 43 года), несмотря на высокий кредитный рейтинг (в среднем 653)  \n",
    "В Испании клиенты с 2я продуктами уходят в среднем после 3–4.4 года, даже при рейтинге 735+, что может указывать на системные проблемы в обслуживании  \n",
    "Также стоит заметить низкую активность клиентов с 1-2 продуктами, но для точного утверждения слишком мало данных"
   ]
  },
  {
   "cell_type": "code",
   "execution_count": null,
   "id": "99929194",
   "metadata": {},
   "outputs": [],
   "source": [
    "# 4 Клиенты с 3+ продуктами (группируем сразу по исходу, активности и наличию кредитных карт)\n",
    "multi_product_stats = dataset[dataset[\"num_of_products\"] >= 3].groupby(\n",
    "    [\"exited\", \"is_active_member\", \"has_cr_card\"]).agg({\n",
    "    \"balance\": [\"mean\", \"median\", \"count\", \"std\", \"skew\"],\n",
    "    \"age\": \"median\",\n",
    "    \"tenure\": [\"mean\", \"median\", \"std\"],\n",
    "    \"credit_score\": [\"mean\", \"median\", \"min\", \"max\", \"count\"],\n",
    "    \"estimated_salary\": [\"mean\", \"median\", \"count\", \"std\", \"skew\"]\n",
    "}).round(2)\n",
    "multi_product_stats"
   ]
  },
  {
   "cell_type": "markdown",
   "id": "3b21a26c",
   "metadata": {},
   "source": [
    "Ушедшие клиенты с 3+ продуктами имеют значительно больший баланс (средний 81–92K против 15–32K у оставшихся) и старше (медианный возраст 44–46 лет против 33–35).  \n",
    "При этом их кредитный рейтинг ниже (в среднем 644–647 против 618–742). Можно сделать вывод, что клиенты с высоким балансом и 3+ продуктами уходят, несмотря на долгое сотрудничество (медианный срок 4–6 лет)."
   ]
  },
  {
   "cell_type": "markdown",
   "id": "db6a084d",
   "metadata": {},
   "source": [
    "##### Свободный исследовательский анализ\n",
    "\n",
    "В процессе выполнения пунктов 1-5 исследовательского анализа были выявлены следующие закономерности, которые могут указывать на риски оттока клиентов:\n",
    "1. Клиенты, у которых 3 и более банковских продуктов, чаще уходят из банка. Это может быть связано с навязыванием услуг или перегруженностью предложениями, что вызывает раздражение и снижает лояльность.\n",
    "2. Клиенты, которые обслуживались в банке 1 год или меньше, даже при высоком кредитном рейтинге, склонны к оттоку. Возможно, они не увидели преимуществ банка сразу и предпочли другие.\n",
    "3. Отток наблюдается и среди клиентов с балансом свыше 200 000, что может указывать на отсутствие подходящих премиальных продуктов или неудовлетворительный сервис.\n",
    "\n",
    "Однако, стоит обратить внимание на неактивных клиентов:"
   ]
  },
  {
   "cell_type": "code",
   "execution_count": null,
   "id": "22547a45",
   "metadata": {},
   "outputs": [],
   "source": [
    "\n",
    "random_churn = dataset.groupby([\"geography\", \"gender\" , \"is_active_member\", \"exited\"]).agg({\n",
    "    \"age\": [\"median\", \"mean\"],\n",
    "    \"balance\": [\"mean\", \"median\", \"std\", \"count\"],\n",
    "    \"credit_score\": [\"min\", \"max\", \"mean\"],\n",
    "    \"num_of_products\": [\"mean\", \"std\", \"count\"],\n",
    "    \"tenure\": [\"median\", \"mean\", \"max\"],\n",
    "    \"estimated_salary\": [\"median\", \"mean\", \"std\"]\n",
    "}).round(2)\n",
    "random_churn"
   ]
  },
  {
   "cell_type": "markdown",
   "id": "f60be28e",
   "metadata": {},
   "source": [
    "Исходя из этих результатов можно заметить, что в германии клиенты в среднем имеют высокий баланс по сравнению с францией и испанией, но при этом эти клиенты уходят чаще, чем в других странах. Дополнительно проверим эту закономерность:"
   ]
  },
  {
   "cell_type": "code",
   "execution_count": null,
   "id": "07b423a0",
   "metadata": {},
   "outputs": [],
   "source": [
    "# подсчет количества людей по странам\n",
    "dataset['geography'].value_counts()"
   ]
  },
  {
   "cell_type": "code",
   "execution_count": null,
   "id": "21f15224",
   "metadata": {},
   "outputs": [],
   "source": [
    "# проверим отток клиентов с разным диапазоном баланса:\n",
    "for balance in range(0, 120_000, 10_000):\n",
    "    max_balance = balance*2 if balance != 0 else 10_000\n",
    "    churn_by_country = dataset[(dataset['balance'] >= balance) & (dataset['balance'] <= max_balance)].groupby('geography')['exited'].mean().sort_values(ascending=False)\n",
    "    print(f\"Диапазон от {balance} до {max_balance}\")\n",
    "    print(churn_by_country)\n",
    "    print()"
   ]
  },
  {
   "cell_type": "code",
   "execution_count": null,
   "id": "888e400a",
   "metadata": {},
   "outputs": [],
   "source": [
    "# отдельно проверим отток в определенном диапазоне баланса и количестве человек в этом диапазоне\n",
    "range_balance = (dataset['balance'] >= 50_000) & (dataset['balance'] <= 100_000)\n",
    "churn_mid_balance = dataset[range_balance].groupby('geography')['exited'].mean()\n",
    "churn_mid_balance"
   ]
  },
  {
   "cell_type": "code",
   "execution_count": null,
   "id": "df9ed6cb",
   "metadata": {},
   "outputs": [],
   "source": [
    "range_balance = dataset[(dataset['balance'] >= 50_000) & (dataset['balance'] <= 100_000)]\n",
    "range_balance[\"geography\"].value_counts()"
   ]
  },
  {
   "cell_type": "markdown",
   "id": "035f0c42",
   "metadata": {},
   "source": [
    "Исходя из всех вышеперечисленных данных можно обнаружить следующую закономерность - в зависимости от диапазона дохода наблюдается отток клиентов по географическому признаку, а именно:\n",
    "1. В диапазоне от 0 до 50 000 максимальный отток наблюдается среди клиентов из Испании и Франции, в то время как клиентов из Германии в этом диапазоне вообще нет\n",
    "2. В диапазоне от 50 000 до 100 000 наблюдается рост оттока среди клиентов Германии\n",
    "3. При балансе выше 70 000 Германия показывает самый высокий показатель оттока, который примерно в 2 раза больше по сравнению с Францией и Испанией\n",
    "4. Самой стабильной страной является Франция за счет низкого оттока почти на всех диапазонах"
   ]
  },
  {
   "cell_type": "markdown",
   "id": "f94aa87e",
   "metadata": {},
   "source": [
    "##### Вывод по исследовательскому анализу\n",
    "\n",
    "В ходе исследовательского анализа данных были изучены финансовые и демографические характеристики клиентов, выполнена фильтрация по ключевым бизнес-параметрам, проведены группировки и построены сводные таблицы. Это позволило выявить следующие важные закономерности:\n",
    "- Отток чаще наблюдается у клиентов с несколькими банковскими продуктами, особенно при количестве более трех\n",
    "- Новые клиенты, даже с хорошим кредитным рейтингом, не всегда остаются, что может указывать на слабое первое впечатление от банка. Если смотреть новых клиентов с хорошим кредитным рейтингом, то среди них отток составил почти 100%\n",
    "- Клиенты с высоким балансом тоже склонны к оттоку\n",
    "- Также выявлена неочевидная закономерность баланса и географического признака, которые влияют на отток\n",
    "\n",
    "Таким образом, были определены группы клиентов, наиболее склонные к уходу. Эти выводы могут лечь в основу построения новой стратегий по удержанию клиентов."
   ]
  }
 ],
 "metadata": {
  "kernelspec": {
   "display_name": ".venv",
   "language": "python",
   "name": "python3"
  },
  "language_info": {
   "codemirror_mode": {
    "name": "ipython",
    "version": 3
   },
   "file_extension": ".py",
   "mimetype": "text/x-python",
   "name": "python",
   "nbconvert_exporter": "python",
   "pygments_lexer": "ipython3",
   "version": "3.12.11"
  }
 },
 "nbformat": 4,
 "nbformat_minor": 5
}
